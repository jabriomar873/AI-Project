{
 "cells": [
  {
   "cell_type": "code",
   "execution_count": 1,
   "id": "e4e350e5",
   "metadata": {
    "execution": {
     "iopub.execute_input": "2025-01-27T21:11:57.180849Z",
     "iopub.status.busy": "2025-01-27T21:11:57.180458Z",
     "iopub.status.idle": "2025-01-27T21:11:57.996365Z",
     "shell.execute_reply": "2025-01-27T21:11:57.995623Z"
    },
    "papermill": {
     "duration": 0.824132,
     "end_time": "2025-01-27T21:11:57.998176",
     "exception": false,
     "start_time": "2025-01-27T21:11:57.174044",
     "status": "completed"
    },
    "tags": []
   },
   "outputs": [],
   "source": [
    "# necessary library\n",
    "import os\n",
    "import numpy as np\n",
    "import pandas as pd \n",
    "import matplotlib.pyplot as plt "
   ]
  },
  {
   "cell_type": "code",
   "execution_count": 2,
   "id": "a65883f6",
   "metadata": {
    "execution": {
     "iopub.execute_input": "2025-01-27T21:11:58.008506Z",
     "iopub.status.busy": "2025-01-27T21:11:58.008031Z",
     "iopub.status.idle": "2025-01-27T21:11:58.011687Z",
     "shell.execute_reply": "2025-01-27T21:11:58.010940Z"
    },
    "papermill": {
     "duration": 0.01016,
     "end_time": "2025-01-27T21:11:58.013087",
     "exception": false,
     "start_time": "2025-01-27T21:11:58.002927",
     "status": "completed"
    },
    "tags": []
   },
   "outputs": [],
   "source": [
    "path ='/kaggle/input/challenges-in-representation-learning-facial-expression-recognition-challenge/icml_face_data.csv'"
   ]
  },
  {
   "cell_type": "code",
   "execution_count": 3,
   "id": "6c14421e",
   "metadata": {
    "execution": {
     "iopub.execute_input": "2025-01-27T21:11:58.022984Z",
     "iopub.status.busy": "2025-01-27T21:11:58.022727Z",
     "iopub.status.idle": "2025-01-27T21:12:04.896116Z",
     "shell.execute_reply": "2025-01-27T21:12:04.895268Z"
    },
    "papermill": {
     "duration": 6.880068,
     "end_time": "2025-01-27T21:12:04.897960",
     "exception": false,
     "start_time": "2025-01-27T21:11:58.017892",
     "status": "completed"
    },
    "tags": []
   },
   "outputs": [],
   "source": [
    "# Load the data\n",
    "data = pd.read_csv(path)"
   ]
  },
  {
   "cell_type": "code",
   "execution_count": 4,
   "id": "69fd3c93",
   "metadata": {
    "execution": {
     "iopub.execute_input": "2025-01-27T21:12:04.908302Z",
     "iopub.status.busy": "2025-01-27T21:12:04.908002Z",
     "iopub.status.idle": "2025-01-27T21:12:04.920219Z",
     "shell.execute_reply": "2025-01-27T21:12:04.919478Z"
    },
    "papermill": {
     "duration": 0.019161,
     "end_time": "2025-01-27T21:12:04.921796",
     "exception": false,
     "start_time": "2025-01-27T21:12:04.902635",
     "status": "completed"
    },
    "tags": []
   },
   "outputs": [],
   "source": [
    "data = data.rename(columns = {\" pixels\": \"pixels\", \" Usage\": \"usage\"})"
   ]
  },
  {
   "cell_type": "markdown",
   "id": "4327fa2a",
   "metadata": {
    "papermill": {
     "duration": 0.004064,
     "end_time": "2025-01-27T21:12:04.930416",
     "exception": false,
     "start_time": "2025-01-27T21:12:04.926352",
     "status": "completed"
    },
    "tags": []
   },
   "source": [
    "**Extract training,validation and testing data from data**"
   ]
  },
  {
   "cell_type": "code",
   "execution_count": 5,
   "id": "130aa076",
   "metadata": {
    "execution": {
     "iopub.execute_input": "2025-01-27T21:12:04.939890Z",
     "iopub.status.busy": "2025-01-27T21:12:04.939584Z",
     "iopub.status.idle": "2025-01-27T21:12:04.968278Z",
     "shell.execute_reply": "2025-01-27T21:12:04.967500Z"
    },
    "papermill": {
     "duration": 0.035612,
     "end_time": "2025-01-27T21:12:04.970260",
     "exception": false,
     "start_time": "2025-01-27T21:12:04.934648",
     "status": "completed"
    },
    "tags": []
   },
   "outputs": [],
   "source": [
    "train_data = data.loc[data['usage'] == 'Training'].drop('usage', axis = 1).reset_index(drop = True)\n",
    "val_data = data.loc[data['usage'] == 'PublicTest'].drop('usage', axis = 1).reset_index(drop = True)\n",
    "test_data = data.loc[data['usage'] == 'PrivateTest'].drop('usage', axis = 1).reset_index(drop = True)\n"
   ]
  },
  {
   "cell_type": "code",
   "execution_count": 6,
   "id": "48e7514c",
   "metadata": {
    "execution": {
     "iopub.execute_input": "2025-01-27T21:12:04.981164Z",
     "iopub.status.busy": "2025-01-27T21:12:04.980816Z",
     "iopub.status.idle": "2025-01-27T21:12:08.533706Z",
     "shell.execute_reply": "2025-01-27T21:12:08.532512Z"
    },
    "papermill": {
     "duration": 3.560112,
     "end_time": "2025-01-27T21:12:08.535551",
     "exception": false,
     "start_time": "2025-01-27T21:12:04.975439",
     "status": "completed"
    },
    "tags": []
   },
   "outputs": [],
   "source": [
    "#Convert pixel strings to Numpy arrays\n",
    "train_images=np.array([np.fromstring(pixel,dtype=int,sep=' ') for pixel in train_data['pixels']])\n",
    "val_images=np.array([np.fromstring(pixel,dtype=int,sep=' ') for pixel in val_data['pixels']])\n",
    "test_images=np.array([np.fromstring(pixel,dtype=int,sep=' ') for pixel in test_data['pixels']])"
   ]
  },
  {
   "cell_type": "markdown",
   "id": "6e2ee60c",
   "metadata": {
    "papermill": {
     "duration": 0.004149,
     "end_time": "2025-01-27T21:12:08.544591",
     "exception": false,
     "start_time": "2025-01-27T21:12:08.540442",
     "status": "completed"
    },
    "tags": []
   },
   "source": [
    "**Reshape**"
   ]
  },
  {
   "cell_type": "code",
   "execution_count": 7,
   "id": "70f5b191",
   "metadata": {
    "execution": {
     "iopub.execute_input": "2025-01-27T21:12:08.554595Z",
     "iopub.status.busy": "2025-01-27T21:12:08.554233Z",
     "iopub.status.idle": "2025-01-27T21:12:08.558914Z",
     "shell.execute_reply": "2025-01-27T21:12:08.557919Z"
    },
    "papermill": {
     "duration": 0.011352,
     "end_time": "2025-01-27T21:12:08.560377",
     "exception": false,
     "start_time": "2025-01-27T21:12:08.549025",
     "status": "completed"
    },
    "tags": []
   },
   "outputs": [],
   "source": [
    "#Reshape to (48,48,1)\n",
    "train_images=train_images.reshape(-1,48,48,1)\n",
    "val_images=val_images.reshape(-1,48,48,1)\n",
    "test_images=test_images.reshape(-1,48,48,1)"
   ]
  },
  {
   "cell_type": "code",
   "execution_count": 8,
   "id": "d10ac943",
   "metadata": {
    "execution": {
     "iopub.execute_input": "2025-01-27T21:12:08.569886Z",
     "iopub.status.busy": "2025-01-27T21:12:08.569613Z",
     "iopub.status.idle": "2025-01-27T21:12:08.574590Z",
     "shell.execute_reply": "2025-01-27T21:12:08.573485Z"
    },
    "papermill": {
     "duration": 0.011327,
     "end_time": "2025-01-27T21:12:08.576124",
     "exception": false,
     "start_time": "2025-01-27T21:12:08.564797",
     "status": "completed"
    },
    "tags": []
   },
   "outputs": [
    {
     "name": "stdout",
     "output_type": "stream",
     "text": [
      "(28709, 48, 48, 1)\n",
      "(3589, 48, 48, 1)\n",
      "(3589, 48, 48, 1)\n"
     ]
    }
   ],
   "source": [
    "print(train_images.shape)\n",
    "print(val_images.shape)\n",
    "print(test_images.shape)"
   ]
  },
  {
   "cell_type": "markdown",
   "id": "4c440051",
   "metadata": {
    "papermill": {
     "duration": 0.004174,
     "end_time": "2025-01-27T21:12:08.584663",
     "exception": false,
     "start_time": "2025-01-27T21:12:08.580489",
     "status": "completed"
    },
    "tags": []
   },
   "source": [
    "**One_hot_encodings**"
   ]
  },
  {
   "cell_type": "code",
   "execution_count": 9,
   "id": "2228a7e0",
   "metadata": {
    "execution": {
     "iopub.execute_input": "2025-01-27T21:12:08.594070Z",
     "iopub.status.busy": "2025-01-27T21:12:08.593773Z",
     "iopub.status.idle": "2025-01-27T21:12:21.730382Z",
     "shell.execute_reply": "2025-01-27T21:12:21.729629Z"
    },
    "papermill": {
     "duration": 13.143239,
     "end_time": "2025-01-27T21:12:21.732128",
     "exception": false,
     "start_time": "2025-01-27T21:12:08.588889",
     "status": "completed"
    },
    "tags": []
   },
   "outputs": [],
   "source": [
    "from keras.utils import to_categorical\n",
    "\n",
    "train_labels = to_categorical(train_data['emotion'], num_classes=7)\n",
    "val_labels = to_categorical(val_data['emotion'], num_classes=7)\n",
    "test_labels = to_categorical(test_data['emotion'], num_classes=7)"
   ]
  },
  {
   "cell_type": "code",
   "execution_count": 10,
   "id": "321d6c70",
   "metadata": {
    "execution": {
     "iopub.execute_input": "2025-01-27T21:12:21.742450Z",
     "iopub.status.busy": "2025-01-27T21:12:21.741926Z",
     "iopub.status.idle": "2025-01-27T21:12:21.747325Z",
     "shell.execute_reply": "2025-01-27T21:12:21.746473Z"
    },
    "papermill": {
     "duration": 0.011995,
     "end_time": "2025-01-27T21:12:21.748823",
     "exception": false,
     "start_time": "2025-01-27T21:12:21.736828",
     "status": "completed"
    },
    "tags": []
   },
   "outputs": [
    {
     "name": "stdout",
     "output_type": "stream",
     "text": [
      "(28709, 7)\n",
      "(3589, 7)\n",
      "(3589, 7)\n"
     ]
    }
   ],
   "source": [
    "print(train_labels.shape)\n",
    "print(val_labels.shape)\n",
    "print(test_labels.shape)"
   ]
  },
  {
   "cell_type": "markdown",
   "id": "8fe8a488",
   "metadata": {
    "papermill": {
     "duration": 0.004062,
     "end_time": "2025-01-27T21:12:21.757344",
     "exception": false,
     "start_time": "2025-01-27T21:12:21.753282",
     "status": "completed"
    },
    "tags": []
   },
   "source": [
    "**Data Augmentation**"
   ]
  },
  {
   "cell_type": "markdown",
   "id": "57d02d9f",
   "metadata": {
    "papermill": {
     "duration": 0.004007,
     "end_time": "2025-01-27T21:12:21.765651",
     "exception": false,
     "start_time": "2025-01-27T21:12:21.761644",
     "status": "completed"
    },
    "tags": []
   },
   "source": [
    "it does not work well with this data set"
   ]
  },
  {
   "cell_type": "code",
   "execution_count": 11,
   "id": "351dbf9e",
   "metadata": {
    "execution": {
     "iopub.execute_input": "2025-01-27T21:12:21.775240Z",
     "iopub.status.busy": "2025-01-27T21:12:21.774956Z",
     "iopub.status.idle": "2025-01-27T21:12:21.778216Z",
     "shell.execute_reply": "2025-01-27T21:12:21.777497Z"
    },
    "papermill": {
     "duration": 0.009741,
     "end_time": "2025-01-27T21:12:21.779683",
     "exception": false,
     "start_time": "2025-01-27T21:12:21.769942",
     "status": "completed"
    },
    "tags": []
   },
   "outputs": [],
   "source": [
    "# from tensorflow.keras.preprocessing.image import ImageDataGenerator\n",
    "\n",
    "# # Define the augmentation generator\n",
    "# datagen = ImageDataGenerator(\n",
    "#     rotation_range=30,  # Rotate images by up to 30 degrees\n",
    "#     zoom_range=0.2,  # Zoom in/out by up to 20%\n",
    "#     width_shift_range=0.2,  # Shift horizontally by up to 20%\n",
    "#     height_shift_range=0.2,  # Shift vertically by up to 20%\n",
    "#     horizontal_flip=True,  # Flip images horizontally\n",
    "#     fill_mode='nearest'  # Fill missing pixels with nearest values\n",
    "# )\n",
    "\n",
    "# # Assuming train_images is your preprocessed training data\n",
    "# datagen.fit(train_images)"
   ]
  },
  {
   "cell_type": "markdown",
   "id": "e483036a",
   "metadata": {
    "papermill": {
     "duration": 0.00397,
     "end_time": "2025-01-27T21:12:21.787954",
     "exception": false,
     "start_time": "2025-01-27T21:12:21.783984",
     "status": "completed"
    },
    "tags": []
   },
   "source": [
    "**Build a Model**"
   ]
  },
  {
   "cell_type": "code",
   "execution_count": 12,
   "id": "2c326ab9",
   "metadata": {
    "execution": {
     "iopub.execute_input": "2025-01-27T21:12:21.797761Z",
     "iopub.status.busy": "2025-01-27T21:12:21.797385Z",
     "iopub.status.idle": "2025-01-27T21:12:21.866813Z",
     "shell.execute_reply": "2025-01-27T21:12:21.865878Z"
    },
    "papermill": {
     "duration": 0.076495,
     "end_time": "2025-01-27T21:12:21.868666",
     "exception": false,
     "start_time": "2025-01-27T21:12:21.792171",
     "status": "completed"
    },
    "tags": []
   },
   "outputs": [],
   "source": [
    "from tensorflow.keras.models import Sequential\n",
    "from tensorflow.keras.layers import Conv2D, MaxPooling2D, Flatten, Dense, Dropout\n",
    "from tensorflow.keras.regularizers import l2\n",
    "from tensorflow.keras.optimizers import Adam\n"
   ]
  },
  {
   "cell_type": "code",
   "execution_count": 13,
   "id": "a95b8152",
   "metadata": {
    "execution": {
     "iopub.execute_input": "2025-01-27T21:12:21.878943Z",
     "iopub.status.busy": "2025-01-27T21:12:21.878650Z",
     "iopub.status.idle": "2025-01-27T21:12:24.461443Z",
     "shell.execute_reply": "2025-01-27T21:12:24.460323Z"
    },
    "papermill": {
     "duration": 2.589406,
     "end_time": "2025-01-27T21:12:24.462894",
     "exception": false,
     "start_time": "2025-01-27T21:12:21.873488",
     "status": "completed"
    },
    "tags": []
   },
   "outputs": [
    {
     "name": "stderr",
     "output_type": "stream",
     "text": [
      "/usr/local/lib/python3.10/dist-packages/keras/src/layers/convolutional/base_conv.py:107: UserWarning: Do not pass an `input_shape`/`input_dim` argument to a layer. When using Sequential models, prefer using an `Input(shape)` object as the first layer in the model instead.\n",
      "  super().__init__(activity_regularizer=activity_regularizer, **kwargs)\n"
     ]
    },
    {
     "data": {
      "text/html": [
       "<pre style=\"white-space:pre;overflow-x:auto;line-height:normal;font-family:Menlo,'DejaVu Sans Mono',consolas,'Courier New',monospace\"><span style=\"font-weight: bold\">Model: \"sequential\"</span>\n",
       "</pre>\n"
      ],
      "text/plain": [
       "\u001b[1mModel: \"sequential\"\u001b[0m\n"
      ]
     },
     "metadata": {},
     "output_type": "display_data"
    },
    {
     "data": {
      "text/html": [
       "<pre style=\"white-space:pre;overflow-x:auto;line-height:normal;font-family:Menlo,'DejaVu Sans Mono',consolas,'Courier New',monospace\">┏━━━━━━━━━━━━━━━━━━━━━━━━━━━━━━━━━━━━━━┳━━━━━━━━━━━━━━━━━━━━━━━━━━━━━┳━━━━━━━━━━━━━━━━━┓\n",
       "┃<span style=\"font-weight: bold\"> Layer (type)                         </span>┃<span style=\"font-weight: bold\"> Output Shape                </span>┃<span style=\"font-weight: bold\">         Param # </span>┃\n",
       "┡━━━━━━━━━━━━━━━━━━━━━━━━━━━━━━━━━━━━━━╇━━━━━━━━━━━━━━━━━━━━━━━━━━━━━╇━━━━━━━━━━━━━━━━━┩\n",
       "│ conv2d (<span style=\"color: #0087ff; text-decoration-color: #0087ff\">Conv2D</span>)                      │ (<span style=\"color: #00d7ff; text-decoration-color: #00d7ff\">None</span>, <span style=\"color: #00af00; text-decoration-color: #00af00\">46</span>, <span style=\"color: #00af00; text-decoration-color: #00af00\">46</span>, <span style=\"color: #00af00; text-decoration-color: #00af00\">32</span>)          │             <span style=\"color: #00af00; text-decoration-color: #00af00\">320</span> │\n",
       "├──────────────────────────────────────┼─────────────────────────────┼─────────────────┤\n",
       "│ max_pooling2d (<span style=\"color: #0087ff; text-decoration-color: #0087ff\">MaxPooling2D</span>)         │ (<span style=\"color: #00d7ff; text-decoration-color: #00d7ff\">None</span>, <span style=\"color: #00af00; text-decoration-color: #00af00\">23</span>, <span style=\"color: #00af00; text-decoration-color: #00af00\">23</span>, <span style=\"color: #00af00; text-decoration-color: #00af00\">32</span>)          │               <span style=\"color: #00af00; text-decoration-color: #00af00\">0</span> │\n",
       "├──────────────────────────────────────┼─────────────────────────────┼─────────────────┤\n",
       "│ conv2d_1 (<span style=\"color: #0087ff; text-decoration-color: #0087ff\">Conv2D</span>)                    │ (<span style=\"color: #00d7ff; text-decoration-color: #00d7ff\">None</span>, <span style=\"color: #00af00; text-decoration-color: #00af00\">21</span>, <span style=\"color: #00af00; text-decoration-color: #00af00\">21</span>, <span style=\"color: #00af00; text-decoration-color: #00af00\">64</span>)          │          <span style=\"color: #00af00; text-decoration-color: #00af00\">18,496</span> │\n",
       "├──────────────────────────────────────┼─────────────────────────────┼─────────────────┤\n",
       "│ max_pooling2d_1 (<span style=\"color: #0087ff; text-decoration-color: #0087ff\">MaxPooling2D</span>)       │ (<span style=\"color: #00d7ff; text-decoration-color: #00d7ff\">None</span>, <span style=\"color: #00af00; text-decoration-color: #00af00\">10</span>, <span style=\"color: #00af00; text-decoration-color: #00af00\">10</span>, <span style=\"color: #00af00; text-decoration-color: #00af00\">64</span>)          │               <span style=\"color: #00af00; text-decoration-color: #00af00\">0</span> │\n",
       "├──────────────────────────────────────┼─────────────────────────────┼─────────────────┤\n",
       "│ conv2d_2 (<span style=\"color: #0087ff; text-decoration-color: #0087ff\">Conv2D</span>)                    │ (<span style=\"color: #00d7ff; text-decoration-color: #00d7ff\">None</span>, <span style=\"color: #00af00; text-decoration-color: #00af00\">8</span>, <span style=\"color: #00af00; text-decoration-color: #00af00\">8</span>, <span style=\"color: #00af00; text-decoration-color: #00af00\">124</span>)           │          <span style=\"color: #00af00; text-decoration-color: #00af00\">71,548</span> │\n",
       "├──────────────────────────────────────┼─────────────────────────────┼─────────────────┤\n",
       "│ max_pooling2d_2 (<span style=\"color: #0087ff; text-decoration-color: #0087ff\">MaxPooling2D</span>)       │ (<span style=\"color: #00d7ff; text-decoration-color: #00d7ff\">None</span>, <span style=\"color: #00af00; text-decoration-color: #00af00\">4</span>, <span style=\"color: #00af00; text-decoration-color: #00af00\">4</span>, <span style=\"color: #00af00; text-decoration-color: #00af00\">124</span>)           │               <span style=\"color: #00af00; text-decoration-color: #00af00\">0</span> │\n",
       "├──────────────────────────────────────┼─────────────────────────────┼─────────────────┤\n",
       "│ conv2d_3 (<span style=\"color: #0087ff; text-decoration-color: #0087ff\">Conv2D</span>)                    │ (<span style=\"color: #00d7ff; text-decoration-color: #00d7ff\">None</span>, <span style=\"color: #00af00; text-decoration-color: #00af00\">2</span>, <span style=\"color: #00af00; text-decoration-color: #00af00\">2</span>, <span style=\"color: #00af00; text-decoration-color: #00af00\">256</span>)           │         <span style=\"color: #00af00; text-decoration-color: #00af00\">285,952</span> │\n",
       "├──────────────────────────────────────┼─────────────────────────────┼─────────────────┤\n",
       "│ max_pooling2d_3 (<span style=\"color: #0087ff; text-decoration-color: #0087ff\">MaxPooling2D</span>)       │ (<span style=\"color: #00d7ff; text-decoration-color: #00d7ff\">None</span>, <span style=\"color: #00af00; text-decoration-color: #00af00\">1</span>, <span style=\"color: #00af00; text-decoration-color: #00af00\">1</span>, <span style=\"color: #00af00; text-decoration-color: #00af00\">256</span>)           │               <span style=\"color: #00af00; text-decoration-color: #00af00\">0</span> │\n",
       "├──────────────────────────────────────┼─────────────────────────────┼─────────────────┤\n",
       "│ flatten (<span style=\"color: #0087ff; text-decoration-color: #0087ff\">Flatten</span>)                    │ (<span style=\"color: #00d7ff; text-decoration-color: #00d7ff\">None</span>, <span style=\"color: #00af00; text-decoration-color: #00af00\">256</span>)                 │               <span style=\"color: #00af00; text-decoration-color: #00af00\">0</span> │\n",
       "├──────────────────────────────────────┼─────────────────────────────┼─────────────────┤\n",
       "│ dense (<span style=\"color: #0087ff; text-decoration-color: #0087ff\">Dense</span>)                        │ (<span style=\"color: #00d7ff; text-decoration-color: #00d7ff\">None</span>, <span style=\"color: #00af00; text-decoration-color: #00af00\">256</span>)                 │          <span style=\"color: #00af00; text-decoration-color: #00af00\">65,792</span> │\n",
       "├──────────────────────────────────────┼─────────────────────────────┼─────────────────┤\n",
       "│ dropout (<span style=\"color: #0087ff; text-decoration-color: #0087ff\">Dropout</span>)                    │ (<span style=\"color: #00d7ff; text-decoration-color: #00d7ff\">None</span>, <span style=\"color: #00af00; text-decoration-color: #00af00\">256</span>)                 │               <span style=\"color: #00af00; text-decoration-color: #00af00\">0</span> │\n",
       "├──────────────────────────────────────┼─────────────────────────────┼─────────────────┤\n",
       "│ dense_1 (<span style=\"color: #0087ff; text-decoration-color: #0087ff\">Dense</span>)                      │ (<span style=\"color: #00d7ff; text-decoration-color: #00d7ff\">None</span>, <span style=\"color: #00af00; text-decoration-color: #00af00\">128</span>)                 │          <span style=\"color: #00af00; text-decoration-color: #00af00\">32,896</span> │\n",
       "├──────────────────────────────────────┼─────────────────────────────┼─────────────────┤\n",
       "│ dropout_1 (<span style=\"color: #0087ff; text-decoration-color: #0087ff\">Dropout</span>)                  │ (<span style=\"color: #00d7ff; text-decoration-color: #00d7ff\">None</span>, <span style=\"color: #00af00; text-decoration-color: #00af00\">128</span>)                 │               <span style=\"color: #00af00; text-decoration-color: #00af00\">0</span> │\n",
       "├──────────────────────────────────────┼─────────────────────────────┼─────────────────┤\n",
       "│ dense_2 (<span style=\"color: #0087ff; text-decoration-color: #0087ff\">Dense</span>)                      │ (<span style=\"color: #00d7ff; text-decoration-color: #00d7ff\">None</span>, <span style=\"color: #00af00; text-decoration-color: #00af00\">64</span>)                  │           <span style=\"color: #00af00; text-decoration-color: #00af00\">8,256</span> │\n",
       "├──────────────────────────────────────┼─────────────────────────────┼─────────────────┤\n",
       "│ dropout_2 (<span style=\"color: #0087ff; text-decoration-color: #0087ff\">Dropout</span>)                  │ (<span style=\"color: #00d7ff; text-decoration-color: #00d7ff\">None</span>, <span style=\"color: #00af00; text-decoration-color: #00af00\">64</span>)                  │               <span style=\"color: #00af00; text-decoration-color: #00af00\">0</span> │\n",
       "├──────────────────────────────────────┼─────────────────────────────┼─────────────────┤\n",
       "│ dense_3 (<span style=\"color: #0087ff; text-decoration-color: #0087ff\">Dense</span>)                      │ (<span style=\"color: #00d7ff; text-decoration-color: #00d7ff\">None</span>, <span style=\"color: #00af00; text-decoration-color: #00af00\">7</span>)                   │             <span style=\"color: #00af00; text-decoration-color: #00af00\">455</span> │\n",
       "└──────────────────────────────────────┴─────────────────────────────┴─────────────────┘\n",
       "</pre>\n"
      ],
      "text/plain": [
       "┏━━━━━━━━━━━━━━━━━━━━━━━━━━━━━━━━━━━━━━┳━━━━━━━━━━━━━━━━━━━━━━━━━━━━━┳━━━━━━━━━━━━━━━━━┓\n",
       "┃\u001b[1m \u001b[0m\u001b[1mLayer (type)                        \u001b[0m\u001b[1m \u001b[0m┃\u001b[1m \u001b[0m\u001b[1mOutput Shape               \u001b[0m\u001b[1m \u001b[0m┃\u001b[1m \u001b[0m\u001b[1m        Param #\u001b[0m\u001b[1m \u001b[0m┃\n",
       "┡━━━━━━━━━━━━━━━━━━━━━━━━━━━━━━━━━━━━━━╇━━━━━━━━━━━━━━━━━━━━━━━━━━━━━╇━━━━━━━━━━━━━━━━━┩\n",
       "│ conv2d (\u001b[38;5;33mConv2D\u001b[0m)                      │ (\u001b[38;5;45mNone\u001b[0m, \u001b[38;5;34m46\u001b[0m, \u001b[38;5;34m46\u001b[0m, \u001b[38;5;34m32\u001b[0m)          │             \u001b[38;5;34m320\u001b[0m │\n",
       "├──────────────────────────────────────┼─────────────────────────────┼─────────────────┤\n",
       "│ max_pooling2d (\u001b[38;5;33mMaxPooling2D\u001b[0m)         │ (\u001b[38;5;45mNone\u001b[0m, \u001b[38;5;34m23\u001b[0m, \u001b[38;5;34m23\u001b[0m, \u001b[38;5;34m32\u001b[0m)          │               \u001b[38;5;34m0\u001b[0m │\n",
       "├──────────────────────────────────────┼─────────────────────────────┼─────────────────┤\n",
       "│ conv2d_1 (\u001b[38;5;33mConv2D\u001b[0m)                    │ (\u001b[38;5;45mNone\u001b[0m, \u001b[38;5;34m21\u001b[0m, \u001b[38;5;34m21\u001b[0m, \u001b[38;5;34m64\u001b[0m)          │          \u001b[38;5;34m18,496\u001b[0m │\n",
       "├──────────────────────────────────────┼─────────────────────────────┼─────────────────┤\n",
       "│ max_pooling2d_1 (\u001b[38;5;33mMaxPooling2D\u001b[0m)       │ (\u001b[38;5;45mNone\u001b[0m, \u001b[38;5;34m10\u001b[0m, \u001b[38;5;34m10\u001b[0m, \u001b[38;5;34m64\u001b[0m)          │               \u001b[38;5;34m0\u001b[0m │\n",
       "├──────────────────────────────────────┼─────────────────────────────┼─────────────────┤\n",
       "│ conv2d_2 (\u001b[38;5;33mConv2D\u001b[0m)                    │ (\u001b[38;5;45mNone\u001b[0m, \u001b[38;5;34m8\u001b[0m, \u001b[38;5;34m8\u001b[0m, \u001b[38;5;34m124\u001b[0m)           │          \u001b[38;5;34m71,548\u001b[0m │\n",
       "├──────────────────────────────────────┼─────────────────────────────┼─────────────────┤\n",
       "│ max_pooling2d_2 (\u001b[38;5;33mMaxPooling2D\u001b[0m)       │ (\u001b[38;5;45mNone\u001b[0m, \u001b[38;5;34m4\u001b[0m, \u001b[38;5;34m4\u001b[0m, \u001b[38;5;34m124\u001b[0m)           │               \u001b[38;5;34m0\u001b[0m │\n",
       "├──────────────────────────────────────┼─────────────────────────────┼─────────────────┤\n",
       "│ conv2d_3 (\u001b[38;5;33mConv2D\u001b[0m)                    │ (\u001b[38;5;45mNone\u001b[0m, \u001b[38;5;34m2\u001b[0m, \u001b[38;5;34m2\u001b[0m, \u001b[38;5;34m256\u001b[0m)           │         \u001b[38;5;34m285,952\u001b[0m │\n",
       "├──────────────────────────────────────┼─────────────────────────────┼─────────────────┤\n",
       "│ max_pooling2d_3 (\u001b[38;5;33mMaxPooling2D\u001b[0m)       │ (\u001b[38;5;45mNone\u001b[0m, \u001b[38;5;34m1\u001b[0m, \u001b[38;5;34m1\u001b[0m, \u001b[38;5;34m256\u001b[0m)           │               \u001b[38;5;34m0\u001b[0m │\n",
       "├──────────────────────────────────────┼─────────────────────────────┼─────────────────┤\n",
       "│ flatten (\u001b[38;5;33mFlatten\u001b[0m)                    │ (\u001b[38;5;45mNone\u001b[0m, \u001b[38;5;34m256\u001b[0m)                 │               \u001b[38;5;34m0\u001b[0m │\n",
       "├──────────────────────────────────────┼─────────────────────────────┼─────────────────┤\n",
       "│ dense (\u001b[38;5;33mDense\u001b[0m)                        │ (\u001b[38;5;45mNone\u001b[0m, \u001b[38;5;34m256\u001b[0m)                 │          \u001b[38;5;34m65,792\u001b[0m │\n",
       "├──────────────────────────────────────┼─────────────────────────────┼─────────────────┤\n",
       "│ dropout (\u001b[38;5;33mDropout\u001b[0m)                    │ (\u001b[38;5;45mNone\u001b[0m, \u001b[38;5;34m256\u001b[0m)                 │               \u001b[38;5;34m0\u001b[0m │\n",
       "├──────────────────────────────────────┼─────────────────────────────┼─────────────────┤\n",
       "│ dense_1 (\u001b[38;5;33mDense\u001b[0m)                      │ (\u001b[38;5;45mNone\u001b[0m, \u001b[38;5;34m128\u001b[0m)                 │          \u001b[38;5;34m32,896\u001b[0m │\n",
       "├──────────────────────────────────────┼─────────────────────────────┼─────────────────┤\n",
       "│ dropout_1 (\u001b[38;5;33mDropout\u001b[0m)                  │ (\u001b[38;5;45mNone\u001b[0m, \u001b[38;5;34m128\u001b[0m)                 │               \u001b[38;5;34m0\u001b[0m │\n",
       "├──────────────────────────────────────┼─────────────────────────────┼─────────────────┤\n",
       "│ dense_2 (\u001b[38;5;33mDense\u001b[0m)                      │ (\u001b[38;5;45mNone\u001b[0m, \u001b[38;5;34m64\u001b[0m)                  │           \u001b[38;5;34m8,256\u001b[0m │\n",
       "├──────────────────────────────────────┼─────────────────────────────┼─────────────────┤\n",
       "│ dropout_2 (\u001b[38;5;33mDropout\u001b[0m)                  │ (\u001b[38;5;45mNone\u001b[0m, \u001b[38;5;34m64\u001b[0m)                  │               \u001b[38;5;34m0\u001b[0m │\n",
       "├──────────────────────────────────────┼─────────────────────────────┼─────────────────┤\n",
       "│ dense_3 (\u001b[38;5;33mDense\u001b[0m)                      │ (\u001b[38;5;45mNone\u001b[0m, \u001b[38;5;34m7\u001b[0m)                   │             \u001b[38;5;34m455\u001b[0m │\n",
       "└──────────────────────────────────────┴─────────────────────────────┴─────────────────┘\n"
      ]
     },
     "metadata": {},
     "output_type": "display_data"
    },
    {
     "data": {
      "text/html": [
       "<pre style=\"white-space:pre;overflow-x:auto;line-height:normal;font-family:Menlo,'DejaVu Sans Mono',consolas,'Courier New',monospace\"><span style=\"font-weight: bold\"> Total params: </span><span style=\"color: #00af00; text-decoration-color: #00af00\">483,715</span> (1.85 MB)\n",
       "</pre>\n"
      ],
      "text/plain": [
       "\u001b[1m Total params: \u001b[0m\u001b[38;5;34m483,715\u001b[0m (1.85 MB)\n"
      ]
     },
     "metadata": {},
     "output_type": "display_data"
    },
    {
     "data": {
      "text/html": [
       "<pre style=\"white-space:pre;overflow-x:auto;line-height:normal;font-family:Menlo,'DejaVu Sans Mono',consolas,'Courier New',monospace\"><span style=\"font-weight: bold\"> Trainable params: </span><span style=\"color: #00af00; text-decoration-color: #00af00\">483,715</span> (1.85 MB)\n",
       "</pre>\n"
      ],
      "text/plain": [
       "\u001b[1m Trainable params: \u001b[0m\u001b[38;5;34m483,715\u001b[0m (1.85 MB)\n"
      ]
     },
     "metadata": {},
     "output_type": "display_data"
    },
    {
     "data": {
      "text/html": [
       "<pre style=\"white-space:pre;overflow-x:auto;line-height:normal;font-family:Menlo,'DejaVu Sans Mono',consolas,'Courier New',monospace\"><span style=\"font-weight: bold\"> Non-trainable params: </span><span style=\"color: #00af00; text-decoration-color: #00af00\">0</span> (0.00 B)\n",
       "</pre>\n"
      ],
      "text/plain": [
       "\u001b[1m Non-trainable params: \u001b[0m\u001b[38;5;34m0\u001b[0m (0.00 B)\n"
      ]
     },
     "metadata": {},
     "output_type": "display_data"
    }
   ],
   "source": [
    "# Add some  Regularization  to avoid overfiting\n",
    "model = Sequential([\n",
    "    Conv2D(32, (3, 3),kernel_regularizer=l2(0.001), activation='relu', input_shape=(48, 48, 1)),\n",
    "    MaxPooling2D((2, 2)),\n",
    "    Conv2D(64, (3, 3) ,kernel_regularizer=l2(0.001),activation='relu'),\n",
    "    MaxPooling2D((2, 2)),\n",
    "    Conv2D(124, (3, 3) ,kernel_regularizer=l2(0.001), activation='relu'),\n",
    "    MaxPooling2D((2, 2)),\n",
    "    Conv2D(256, (3, 3) ,kernel_regularizer=l2(0.001), activation='relu'),\n",
    "    MaxPooling2D((2, 2)),\n",
    "    \n",
    "    Flatten(),\n",
    "    Dense(256, kernel_regularizer=l2(0.001),activation='relu'),\n",
    "    Dropout(0.5),\n",
    "    Dense(128,kernel_regularizer=l2(0.001),activation='relu'),\n",
    "    Dropout(0.5),\n",
    "    Dense(64,kernel_regularizer=l2(0.001),activation='relu'),\n",
    "    Dropout(0.5),\n",
    "    Dense(7, activation='softmax')\n",
    "])\n",
    "model.summary()\n"
   ]
  },
  {
   "cell_type": "code",
   "execution_count": 14,
   "id": "50df3f12",
   "metadata": {
    "execution": {
     "iopub.execute_input": "2025-01-27T21:12:24.474753Z",
     "iopub.status.busy": "2025-01-27T21:12:24.474384Z",
     "iopub.status.idle": "2025-01-27T21:15:54.790935Z",
     "shell.execute_reply": "2025-01-27T21:15:54.789751Z"
    },
    "papermill": {
     "duration": 210.32465,
     "end_time": "2025-01-27T21:15:54.792885",
     "exception": false,
     "start_time": "2025-01-27T21:12:24.468235",
     "status": "completed"
    },
    "tags": []
   },
   "outputs": [
    {
     "name": "stdout",
     "output_type": "stream",
     "text": [
      "Epoch 1/50\n",
      "\u001b[1m898/898\u001b[0m \u001b[32m━━━━━━━━━━━━━━━━━━━━\u001b[0m\u001b[37m\u001b[0m \u001b[1m19s\u001b[0m 12ms/step - accuracy: 0.2243 - loss: 2.6709 - val_accuracy: 0.2494 - val_loss: 2.1189\n",
      "Epoch 2/50\n",
      "\u001b[1m898/898\u001b[0m \u001b[32m━━━━━━━━━━━━━━━━━━━━\u001b[0m\u001b[37m\u001b[0m \u001b[1m4s\u001b[0m 4ms/step - accuracy: 0.2544 - loss: 2.0755 - val_accuracy: 0.2586 - val_loss: 1.9684\n",
      "Epoch 3/50\n",
      "\u001b[1m898/898\u001b[0m \u001b[32m━━━━━━━━━━━━━━━━━━━━\u001b[0m\u001b[37m\u001b[0m \u001b[1m4s\u001b[0m 4ms/step - accuracy: 0.3030 - loss: 1.8674 - val_accuracy: 0.3881 - val_loss: 1.6460\n",
      "Epoch 4/50\n",
      "\u001b[1m898/898\u001b[0m \u001b[32m━━━━━━━━━━━━━━━━━━━━\u001b[0m\u001b[37m\u001b[0m \u001b[1m4s\u001b[0m 4ms/step - accuracy: 0.3859 - loss: 1.6462 - val_accuracy: 0.4160 - val_loss: 1.5914\n",
      "Epoch 5/50\n",
      "\u001b[1m898/898\u001b[0m \u001b[32m━━━━━━━━━━━━━━━━━━━━\u001b[0m\u001b[37m\u001b[0m \u001b[1m4s\u001b[0m 4ms/step - accuracy: 0.4210 - loss: 1.5423 - val_accuracy: 0.4486 - val_loss: 1.4941\n",
      "Epoch 6/50\n",
      "\u001b[1m898/898\u001b[0m \u001b[32m━━━━━━━━━━━━━━━━━━━━\u001b[0m\u001b[37m\u001b[0m \u001b[1m4s\u001b[0m 4ms/step - accuracy: 0.4425 - loss: 1.4966 - val_accuracy: 0.4519 - val_loss: 1.4620\n",
      "Epoch 7/50\n",
      "\u001b[1m898/898\u001b[0m \u001b[32m━━━━━━━━━━━━━━━━━━━━\u001b[0m\u001b[37m\u001b[0m \u001b[1m4s\u001b[0m 4ms/step - accuracy: 0.4584 - loss: 1.4600 - val_accuracy: 0.4533 - val_loss: 1.4663\n",
      "Epoch 8/50\n",
      "\u001b[1m898/898\u001b[0m \u001b[32m━━━━━━━━━━━━━━━━━━━━\u001b[0m\u001b[37m\u001b[0m \u001b[1m4s\u001b[0m 4ms/step - accuracy: 0.4733 - loss: 1.4413 - val_accuracy: 0.4935 - val_loss: 1.4077\n",
      "Epoch 9/50\n",
      "\u001b[1m898/898\u001b[0m \u001b[32m━━━━━━━━━━━━━━━━━━━━\u001b[0m\u001b[37m\u001b[0m \u001b[1m4s\u001b[0m 4ms/step - accuracy: 0.4921 - loss: 1.4192 - val_accuracy: 0.4820 - val_loss: 1.4159\n",
      "Epoch 10/50\n",
      "\u001b[1m898/898\u001b[0m \u001b[32m━━━━━━━━━━━━━━━━━━━━\u001b[0m\u001b[37m\u001b[0m \u001b[1m4s\u001b[0m 4ms/step - accuracy: 0.5089 - loss: 1.3881 - val_accuracy: 0.4742 - val_loss: 1.4379\n",
      "Epoch 11/50\n",
      "\u001b[1m898/898\u001b[0m \u001b[32m━━━━━━━━━━━━━━━━━━━━\u001b[0m\u001b[37m\u001b[0m \u001b[1m4s\u001b[0m 4ms/step - accuracy: 0.5065 - loss: 1.3894 - val_accuracy: 0.4990 - val_loss: 1.3880\n",
      "Epoch 12/50\n",
      "\u001b[1m898/898\u001b[0m \u001b[32m━━━━━━━━━━━━━━━━━━━━\u001b[0m\u001b[37m\u001b[0m \u001b[1m4s\u001b[0m 4ms/step - accuracy: 0.5177 - loss: 1.3624 - val_accuracy: 0.4985 - val_loss: 1.3919\n",
      "Epoch 13/50\n",
      "\u001b[1m898/898\u001b[0m \u001b[32m━━━━━━━━━━━━━━━━━━━━\u001b[0m\u001b[37m\u001b[0m \u001b[1m4s\u001b[0m 4ms/step - accuracy: 0.5280 - loss: 1.3505 - val_accuracy: 0.5060 - val_loss: 1.3938\n",
      "Epoch 14/50\n",
      "\u001b[1m898/898\u001b[0m \u001b[32m━━━━━━━━━━━━━━━━━━━━\u001b[0m\u001b[37m\u001b[0m \u001b[1m4s\u001b[0m 4ms/step - accuracy: 0.5318 - loss: 1.3380 - val_accuracy: 0.5132 - val_loss: 1.3701\n",
      "Epoch 15/50\n",
      "\u001b[1m898/898\u001b[0m \u001b[32m━━━━━━━━━━━━━━━━━━━━\u001b[0m\u001b[37m\u001b[0m \u001b[1m4s\u001b[0m 4ms/step - accuracy: 0.5300 - loss: 1.3385 - val_accuracy: 0.4962 - val_loss: 1.4435\n",
      "Epoch 16/50\n",
      "\u001b[1m898/898\u001b[0m \u001b[32m━━━━━━━━━━━━━━━━━━━━\u001b[0m\u001b[37m\u001b[0m \u001b[1m4s\u001b[0m 4ms/step - accuracy: 0.5361 - loss: 1.3323 - val_accuracy: 0.5130 - val_loss: 1.3915\n",
      "Epoch 17/50\n",
      "\u001b[1m898/898\u001b[0m \u001b[32m━━━━━━━━━━━━━━━━━━━━\u001b[0m\u001b[37m\u001b[0m \u001b[1m4s\u001b[0m 4ms/step - accuracy: 0.5430 - loss: 1.3242 - val_accuracy: 0.5043 - val_loss: 1.4118\n",
      "Epoch 18/50\n",
      "\u001b[1m898/898\u001b[0m \u001b[32m━━━━━━━━━━━━━━━━━━━━\u001b[0m\u001b[37m\u001b[0m \u001b[1m4s\u001b[0m 4ms/step - accuracy: 0.5437 - loss: 1.3235 - val_accuracy: 0.5043 - val_loss: 1.4242\n",
      "Epoch 19/50\n",
      "\u001b[1m898/898\u001b[0m \u001b[32m━━━━━━━━━━━━━━━━━━━━\u001b[0m\u001b[37m\u001b[0m \u001b[1m4s\u001b[0m 4ms/step - accuracy: 0.5483 - loss: 1.3043 - val_accuracy: 0.5091 - val_loss: 1.4021\n",
      "Epoch 20/50\n",
      "\u001b[1m898/898\u001b[0m \u001b[32m━━━━━━━━━━━━━━━━━━━━\u001b[0m\u001b[37m\u001b[0m \u001b[1m4s\u001b[0m 4ms/step - accuracy: 0.5449 - loss: 1.3108 - val_accuracy: 0.4968 - val_loss: 1.4531\n",
      "Epoch 21/50\n",
      "\u001b[1m898/898\u001b[0m \u001b[32m━━━━━━━━━━━━━━━━━━━━\u001b[0m\u001b[37m\u001b[0m \u001b[1m4s\u001b[0m 4ms/step - accuracy: 0.5539 - loss: 1.3091 - val_accuracy: 0.5180 - val_loss: 1.3980\n",
      "Epoch 22/50\n",
      "\u001b[1m898/898\u001b[0m \u001b[32m━━━━━━━━━━━━━━━━━━━━\u001b[0m\u001b[37m\u001b[0m \u001b[1m4s\u001b[0m 4ms/step - accuracy: 0.5518 - loss: 1.3082 - val_accuracy: 0.5068 - val_loss: 1.4081\n",
      "Epoch 23/50\n",
      "\u001b[1m898/898\u001b[0m \u001b[32m━━━━━━━━━━━━━━━━━━━━\u001b[0m\u001b[37m\u001b[0m \u001b[1m4s\u001b[0m 4ms/step - accuracy: 0.5573 - loss: 1.2967 - val_accuracy: 0.5208 - val_loss: 1.4086\n",
      "Epoch 24/50\n",
      "\u001b[1m898/898\u001b[0m \u001b[32m━━━━━━━━━━━━━━━━━━━━\u001b[0m\u001b[37m\u001b[0m \u001b[1m4s\u001b[0m 4ms/step - accuracy: 0.5631 - loss: 1.2890 - val_accuracy: 0.5263 - val_loss: 1.3889\n",
      "Epoch 25/50\n",
      "\u001b[1m898/898\u001b[0m \u001b[32m━━━━━━━━━━━━━━━━━━━━\u001b[0m\u001b[37m\u001b[0m \u001b[1m4s\u001b[0m 4ms/step - accuracy: 0.5665 - loss: 1.2814 - val_accuracy: 0.5202 - val_loss: 1.4255\n",
      "Epoch 26/50\n",
      "\u001b[1m898/898\u001b[0m \u001b[32m━━━━━━━━━━━━━━━━━━━━\u001b[0m\u001b[37m\u001b[0m \u001b[1m4s\u001b[0m 4ms/step - accuracy: 0.5648 - loss: 1.2929 - val_accuracy: 0.5174 - val_loss: 1.4102\n",
      "Epoch 27/50\n",
      "\u001b[1m898/898\u001b[0m \u001b[32m━━━━━━━━━━━━━━━━━━━━\u001b[0m\u001b[37m\u001b[0m \u001b[1m4s\u001b[0m 4ms/step - accuracy: 0.5693 - loss: 1.2882 - val_accuracy: 0.5113 - val_loss: 1.4365\n",
      "Epoch 28/50\n",
      "\u001b[1m898/898\u001b[0m \u001b[32m━━━━━━━━━━━━━━━━━━━━\u001b[0m\u001b[37m\u001b[0m \u001b[1m4s\u001b[0m 4ms/step - accuracy: 0.5758 - loss: 1.2657 - val_accuracy: 0.5121 - val_loss: 1.4491\n",
      "Epoch 29/50\n",
      "\u001b[1m898/898\u001b[0m \u001b[32m━━━━━━━━━━━━━━━━━━━━\u001b[0m\u001b[37m\u001b[0m \u001b[1m4s\u001b[0m 4ms/step - accuracy: 0.5789 - loss: 1.2720 - val_accuracy: 0.5052 - val_loss: 1.4687\n",
      "Epoch 30/50\n",
      "\u001b[1m898/898\u001b[0m \u001b[32m━━━━━━━━━━━━━━━━━━━━\u001b[0m\u001b[37m\u001b[0m \u001b[1m4s\u001b[0m 4ms/step - accuracy: 0.5761 - loss: 1.2690 - val_accuracy: 0.5091 - val_loss: 1.4180\n",
      "Epoch 31/50\n",
      "\u001b[1m898/898\u001b[0m \u001b[32m━━━━━━━━━━━━━━━━━━━━\u001b[0m\u001b[37m\u001b[0m \u001b[1m4s\u001b[0m 4ms/step - accuracy: 0.5747 - loss: 1.2891 - val_accuracy: 0.5121 - val_loss: 1.4644\n",
      "Epoch 32/50\n",
      "\u001b[1m898/898\u001b[0m \u001b[32m━━━━━━━━━━━━━━━━━━━━\u001b[0m\u001b[37m\u001b[0m \u001b[1m4s\u001b[0m 4ms/step - accuracy: 0.5766 - loss: 1.2731 - val_accuracy: 0.5216 - val_loss: 1.4321\n",
      "Epoch 33/50\n",
      "\u001b[1m898/898\u001b[0m \u001b[32m━━━━━━━━━━━━━━━━━━━━\u001b[0m\u001b[37m\u001b[0m \u001b[1m4s\u001b[0m 4ms/step - accuracy: 0.5840 - loss: 1.2616 - val_accuracy: 0.5258 - val_loss: 1.4487\n",
      "Epoch 34/50\n",
      "\u001b[1m898/898\u001b[0m \u001b[32m━━━━━━━━━━━━━━━━━━━━\u001b[0m\u001b[37m\u001b[0m \u001b[1m4s\u001b[0m 4ms/step - accuracy: 0.5728 - loss: 1.2902 - val_accuracy: 0.5208 - val_loss: 1.4456\n",
      "Epoch 35/50\n",
      "\u001b[1m898/898\u001b[0m \u001b[32m━━━━━━━━━━━━━━━━━━━━\u001b[0m\u001b[37m\u001b[0m \u001b[1m4s\u001b[0m 4ms/step - accuracy: 0.5790 - loss: 1.2726 - val_accuracy: 0.5252 - val_loss: 1.4285\n",
      "Epoch 36/50\n",
      "\u001b[1m898/898\u001b[0m \u001b[32m━━━━━━━━━━━━━━━━━━━━\u001b[0m\u001b[37m\u001b[0m \u001b[1m4s\u001b[0m 4ms/step - accuracy: 0.5904 - loss: 1.2542 - val_accuracy: 0.5244 - val_loss: 1.4359\n",
      "Epoch 37/50\n",
      "\u001b[1m898/898\u001b[0m \u001b[32m━━━━━━━━━━━━━━━━━━━━\u001b[0m\u001b[37m\u001b[0m \u001b[1m4s\u001b[0m 4ms/step - accuracy: 0.5886 - loss: 1.2543 - val_accuracy: 0.5235 - val_loss: 1.4385\n",
      "Epoch 38/50\n",
      "\u001b[1m898/898\u001b[0m \u001b[32m━━━━━━━━━━━━━━━━━━━━\u001b[0m\u001b[37m\u001b[0m \u001b[1m4s\u001b[0m 4ms/step - accuracy: 0.5851 - loss: 1.2572 - val_accuracy: 0.5202 - val_loss: 1.4407\n",
      "Epoch 39/50\n",
      "\u001b[1m898/898\u001b[0m \u001b[32m━━━━━━━━━━━━━━━━━━━━\u001b[0m\u001b[37m\u001b[0m \u001b[1m4s\u001b[0m 4ms/step - accuracy: 0.5925 - loss: 1.2484 - val_accuracy: 0.5160 - val_loss: 1.4574\n",
      "Epoch 40/50\n",
      "\u001b[1m898/898\u001b[0m \u001b[32m━━━━━━━━━━━━━━━━━━━━\u001b[0m\u001b[37m\u001b[0m \u001b[1m4s\u001b[0m 4ms/step - accuracy: 0.5874 - loss: 1.2487 - val_accuracy: 0.5238 - val_loss: 1.4451\n",
      "Epoch 41/50\n",
      "\u001b[1m898/898\u001b[0m \u001b[32m━━━━━━━━━━━━━━━━━━━━\u001b[0m\u001b[37m\u001b[0m \u001b[1m4s\u001b[0m 4ms/step - accuracy: 0.5870 - loss: 1.2583 - val_accuracy: 0.5224 - val_loss: 1.4585\n",
      "Epoch 42/50\n",
      "\u001b[1m898/898\u001b[0m \u001b[32m━━━━━━━━━━━━━━━━━━━━\u001b[0m\u001b[37m\u001b[0m \u001b[1m4s\u001b[0m 4ms/step - accuracy: 0.5960 - loss: 1.2444 - val_accuracy: 0.5163 - val_loss: 1.4777\n",
      "Epoch 43/50\n",
      "\u001b[1m898/898\u001b[0m \u001b[32m━━━━━━━━━━━━━━━━━━━━\u001b[0m\u001b[37m\u001b[0m \u001b[1m4s\u001b[0m 4ms/step - accuracy: 0.5965 - loss: 1.2473 - val_accuracy: 0.5247 - val_loss: 1.4510\n",
      "Epoch 44/50\n",
      "\u001b[1m898/898\u001b[0m \u001b[32m━━━━━━━━━━━━━━━━━━━━\u001b[0m\u001b[37m\u001b[0m \u001b[1m4s\u001b[0m 4ms/step - accuracy: 0.5935 - loss: 1.2508 - val_accuracy: 0.5219 - val_loss: 1.4553\n",
      "Epoch 45/50\n",
      "\u001b[1m898/898\u001b[0m \u001b[32m━━━━━━━━━━━━━━━━━━━━\u001b[0m\u001b[37m\u001b[0m \u001b[1m4s\u001b[0m 4ms/step - accuracy: 0.5989 - loss: 1.2536 - val_accuracy: 0.5210 - val_loss: 1.4916\n",
      "Epoch 46/50\n",
      "\u001b[1m898/898\u001b[0m \u001b[32m━━━━━━━━━━━━━━━━━━━━\u001b[0m\u001b[37m\u001b[0m \u001b[1m4s\u001b[0m 4ms/step - accuracy: 0.5976 - loss: 1.2448 - val_accuracy: 0.5249 - val_loss: 1.4722\n",
      "Epoch 47/50\n",
      "\u001b[1m898/898\u001b[0m \u001b[32m━━━━━━━━━━━━━━━━━━━━\u001b[0m\u001b[37m\u001b[0m \u001b[1m4s\u001b[0m 4ms/step - accuracy: 0.5990 - loss: 1.2420 - val_accuracy: 0.5205 - val_loss: 1.4748\n",
      "Epoch 48/50\n",
      "\u001b[1m898/898\u001b[0m \u001b[32m━━━━━━━━━━━━━━━━━━━━\u001b[0m\u001b[37m\u001b[0m \u001b[1m4s\u001b[0m 4ms/step - accuracy: 0.5955 - loss: 1.2514 - val_accuracy: 0.5141 - val_loss: 1.4799\n",
      "Epoch 49/50\n",
      "\u001b[1m898/898\u001b[0m \u001b[32m━━━━━━━━━━━━━━━━━━━━\u001b[0m\u001b[37m\u001b[0m \u001b[1m4s\u001b[0m 4ms/step - accuracy: 0.6012 - loss: 1.2399 - val_accuracy: 0.4993 - val_loss: 1.5007\n",
      "Epoch 50/50\n",
      "\u001b[1m898/898\u001b[0m \u001b[32m━━━━━━━━━━━━━━━━━━━━\u001b[0m\u001b[37m\u001b[0m \u001b[1m4s\u001b[0m 4ms/step - accuracy: 0.6027 - loss: 1.2477 - val_accuracy: 0.5233 - val_loss: 1.4613\n"
     ]
    }
   ],
   "source": [
    "model.compile(optimizer=Adam(learning_rate=0.001), loss='categorical_crossentropy', metrics=['accuracy'])\n",
    "\n",
    "# Train the model without validation\n",
    "history = model.fit(\n",
    "    x=train_images, \n",
    "    y=train_labels,\n",
    "    batch_size=32,\n",
    "    epochs=50,\n",
    "    validation_data=(val_images,val_labels)\n",
    ")"
   ]
  },
  {
   "cell_type": "code",
   "execution_count": 15,
   "id": "da8975b9",
   "metadata": {
    "execution": {
     "iopub.execute_input": "2025-01-27T21:15:55.193947Z",
     "iopub.status.busy": "2025-01-27T21:15:55.193604Z",
     "iopub.status.idle": "2025-01-27T21:15:55.535225Z",
     "shell.execute_reply": "2025-01-27T21:15:55.534295Z"
    },
    "papermill": {
     "duration": 0.542562,
     "end_time": "2025-01-27T21:15:55.536927",
     "exception": false,
     "start_time": "2025-01-27T21:15:54.994365",
     "status": "completed"
    },
    "tags": []
   },
   "outputs": [
    {
     "name": "stdout",
     "output_type": "stream",
     "text": [
      "\u001b[1m113/113\u001b[0m \u001b[32m━━━━━━━━━━━━━━━━━━━━\u001b[0m\u001b[37m\u001b[0m \u001b[1m0s\u001b[0m 2ms/step - accuracy: 0.5357 - loss: 1.4422\n",
      "Test Accuracy: 0.5274\n"
     ]
    }
   ],
   "source": [
    "# Evaluate the model\n",
    "test_loss, test_accuracy = model.evaluate(test_images,test_labels)\n",
    "print(f\"Test Accuracy: {test_accuracy:.4f}\")"
   ]
  },
  {
   "cell_type": "markdown",
   "id": "4ab85008",
   "metadata": {
    "papermill": {
     "duration": 0.194242,
     "end_time": "2025-01-27T21:15:55.928947",
     "exception": false,
     "start_time": "2025-01-27T21:15:55.734705",
     "status": "completed"
    },
    "tags": []
   },
   "source": [
    "**# Plot training and validation loss**"
   ]
  },
  {
   "cell_type": "code",
   "execution_count": 16,
   "id": "2e1edcee",
   "metadata": {
    "execution": {
     "iopub.execute_input": "2025-01-27T21:15:56.320507Z",
     "iopub.status.busy": "2025-01-27T21:15:56.320118Z",
     "iopub.status.idle": "2025-01-27T21:15:56.909844Z",
     "shell.execute_reply": "2025-01-27T21:15:56.908834Z"
    },
    "papermill": {
     "duration": 0.788892,
     "end_time": "2025-01-27T21:15:56.911476",
     "exception": false,
     "start_time": "2025-01-27T21:15:56.122584",
     "status": "completed"
    },
    "tags": []
   },
   "outputs": [
    {
     "data": {
      "image/png": "[encoded data removed]",
      "text/plain": [
       "<Figure size 1200x500 with 2 Axes>"
      ]
     },
     "metadata": {},
     "output_type": "display_data"
    }
   ],
   "source": [
    "plt.figure(figsize=(12, 5))\n",
    "\n",
    "# Loss curve\n",
    "plt.subplot(1,2,1)\n",
    "plt.plot(history.history['loss'], label='Training loss' ,color='blue',linestyle='-')\n",
    "plt.plot(history.history['val_loss'], label='Validation loss' ,color='orange',linestyle='-')\n",
    "plt.title('Training and Validation Loss')\n",
    "plt.xlabel('Epoch')\n",
    "plt.ylabel('Loss')\n",
    "plt.legend()\n",
    "plt.grid(True)\n",
    "\n",
    "\n",
    "## Accuracy curve\n",
    "plt.subplot(1,2,2)\n",
    "plt.plot(history.history['accuracy'], label='Training Accuracy' ,color='blue',linestyle='-')\n",
    "plt.plot(history.history['val_accuracy'], label='Validation Accuracy' ,color='orange',linestyle='-')\n",
    "plt.title('Training and Validation Accuracy')\n",
    "plt.xlabel('Epoch')\n",
    "plt.ylabel('Accuracy')\n",
    "plt.legend()\n",
    "plt.grid(True)\n",
    "\n",
    "# we need to adjust spacing between subplots\n",
    "plt.tight_layout()\n",
    "plt.show()"
   ]
  }
 ],
 "metadata": {
  "kaggle": {
   "accelerator": "nvidiaTeslaT4",
   "dataSources": [
    {
     "databundleVersionId": 31151,
     "sourceId": 3364,
     "sourceType": "competition"
    }
   ],
   "dockerImageVersionId": 30840,
   "isGpuEnabled": true,
   "isInternetEnabled": true,
   "language": "python",
   "sourceType": "notebook"
  },
  "kernelspec": {
   "display_name": "Python 3",
   "language": "python",
   "name": "python3"
  },
  "language_info": {
   "codemirror_mode": {
    "name": "ipython",
    "version": 3
   },
   "file_extension": ".py",
   "mimetype": "text/x-python",
   "name": "python",
   "nbconvert_exporter": "python",
   "pygments_lexer": "ipython3",
   "version": "3.10.12"
  },
  "papermill": {
   "default_parameters": {},
   "duration": 246.062458,
   "end_time": "2025-01-27T21:16:00.167990",
   "environment_variables": {},
   "exception": null,
   "input_path": "__notebook__.ipynb",
   "output_path": "__notebook__.ipynb",
   "parameters": {},
   "start_time": "2025-01-27T21:11:54.105532",
   "version": "2.6.0"
  }
 },
 "nbformat": 4,
 "nbformat_minor": 5
}
