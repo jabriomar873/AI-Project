{
 "cells": [
  {
   "cell_type": "code",
   "execution_count": 1,
   "id": "e3c347e8",
   "metadata": {
    "execution": {
     "iopub.execute_input": "2025-01-28T13:03:18.039816Z",
     "iopub.status.busy": "2025-01-28T13:03:18.039509Z",
     "iopub.status.idle": "2025-01-28T13:03:18.731228Z",
     "shell.execute_reply": "2025-01-28T13:03:18.730482Z"
    },
    "papermill": {
     "duration": 0.699032,
     "end_time": "2025-01-28T13:03:18.732829",
     "exception": false,
     "start_time": "2025-01-28T13:03:18.033797",
     "status": "completed"
    },
    "tags": []
   },
   "outputs": [],
   "source": [
    "# necessary library\n",
    "import os\n",
    "import numpy as np\n",
    "import pandas as pd \n",
    "import matplotlib.pyplot as plt "
   ]
  },
  {
   "cell_type": "markdown",
   "id": "f267cc34",
   "metadata": {
    "papermill": {
     "duration": 0.003857,
     "end_time": "2025-01-28T13:03:18.741071",
     "exception": false,
     "start_time": "2025-01-28T13:03:18.737214",
     "status": "completed"
    },
    "tags": []
   },
   "source": [
    "**get the path**"
   ]
  },
  {
   "cell_type": "code",
   "execution_count": 2,
   "id": "c6455edf",
   "metadata": {
    "execution": {
     "iopub.execute_input": "2025-01-28T13:03:18.749622Z",
     "iopub.status.busy": "2025-01-28T13:03:18.749162Z",
     "iopub.status.idle": "2025-01-28T13:03:18.752677Z",
     "shell.execute_reply": "2025-01-28T13:03:18.751905Z"
    },
    "papermill": {
     "duration": 0.009167,
     "end_time": "2025-01-28T13:03:18.753914",
     "exception": false,
     "start_time": "2025-01-28T13:03:18.744747",
     "status": "completed"
    },
    "tags": []
   },
   "outputs": [],
   "source": [
    "path ='/kaggle/input/challenges-in-representation-learning-facial-expression-recognition-challenge/icml_face_data.csv'"
   ]
  },
  {
   "cell_type": "code",
   "execution_count": 3,
   "id": "de5aecc6",
   "metadata": {
    "execution": {
     "iopub.execute_input": "2025-01-28T13:03:18.762431Z",
     "iopub.status.busy": "2025-01-28T13:03:18.762203Z",
     "iopub.status.idle": "2025-01-28T13:03:24.316069Z",
     "shell.execute_reply": "2025-01-28T13:03:24.315357Z"
    },
    "papermill": {
     "duration": 5.559925,
     "end_time": "2025-01-28T13:03:24.317869",
     "exception": false,
     "start_time": "2025-01-28T13:03:18.757944",
     "status": "completed"
    },
    "tags": []
   },
   "outputs": [],
   "source": [
    "# Load the data\n",
    "data = pd.read_csv(path)"
   ]
  },
  {
   "cell_type": "code",
   "execution_count": 4,
   "id": "0eaf6f12",
   "metadata": {
    "execution": {
     "iopub.execute_input": "2025-01-28T13:03:24.327267Z",
     "iopub.status.busy": "2025-01-28T13:03:24.327005Z",
     "iopub.status.idle": "2025-01-28T13:03:24.337250Z",
     "shell.execute_reply": "2025-01-28T13:03:24.336646Z"
    },
    "papermill": {
     "duration": 0.016343,
     "end_time": "2025-01-28T13:03:24.338572",
     "exception": false,
     "start_time": "2025-01-28T13:03:24.322229",
     "status": "completed"
    },
    "tags": []
   },
   "outputs": [],
   "source": [
    "data = data.rename(columns = {\" pixels\": \"pixels\", \" Usage\": \"usage\"})"
   ]
  },
  {
   "cell_type": "markdown",
   "id": "6f55467b",
   "metadata": {
    "papermill": {
     "duration": 0.003535,
     "end_time": "2025-01-28T13:03:24.346205",
     "exception": false,
     "start_time": "2025-01-28T13:03:24.342670",
     "status": "completed"
    },
    "tags": []
   },
   "source": [
    "**Extract training,validation and testing data from data**"
   ]
  },
  {
   "cell_type": "code",
   "execution_count": 5,
   "id": "d0249f62",
   "metadata": {
    "execution": {
     "iopub.execute_input": "2025-01-28T13:03:24.354623Z",
     "iopub.status.busy": "2025-01-28T13:03:24.354338Z",
     "iopub.status.idle": "2025-01-28T13:03:24.380152Z",
     "shell.execute_reply": "2025-01-28T13:03:24.379204Z"
    },
    "papermill": {
     "duration": 0.031995,
     "end_time": "2025-01-28T13:03:24.381946",
     "exception": false,
     "start_time": "2025-01-28T13:03:24.349951",
     "status": "completed"
    },
    "tags": []
   },
   "outputs": [],
   "source": [
    "train_data = data.loc[data['usage'] == 'Training'].drop('usage', axis = 1).reset_index(drop = True)\n",
    "val_data = data.loc[data['usage'] == 'PublicTest'].drop('usage', axis = 1).reset_index(drop = True)\n",
    "test_data = data.loc[data['usage'] == 'PrivateTest'].drop('usage', axis = 1).reset_index(drop = True)\n"
   ]
  },
  {
   "cell_type": "code",
   "execution_count": 6,
   "id": "fb9100e6",
   "metadata": {
    "execution": {
     "iopub.execute_input": "2025-01-28T13:03:24.390683Z",
     "iopub.status.busy": "2025-01-28T13:03:24.390395Z",
     "iopub.status.idle": "2025-01-28T13:03:27.493858Z",
     "shell.execute_reply": "2025-01-28T13:03:27.493098Z"
    },
    "papermill": {
     "duration": 3.109662,
     "end_time": "2025-01-28T13:03:27.495587",
     "exception": false,
     "start_time": "2025-01-28T13:03:24.385925",
     "status": "completed"
    },
    "tags": []
   },
   "outputs": [],
   "source": [
    "#Convert pixel strings to Numpy arrays\n",
    "train_images=np.array([np.fromstring(pixel,dtype=int,sep=' ') for pixel in train_data['pixels']])\n",
    "val_images=np.array([np.fromstring(pixel,dtype=int,sep=' ') for pixel in val_data['pixels']])\n",
    "test_images=np.array([np.fromstring(pixel,dtype=int,sep=' ') for pixel in test_data['pixels']])"
   ]
  },
  {
   "cell_type": "markdown",
   "id": "3bd40915",
   "metadata": {
    "papermill": {
     "duration": 0.004086,
     "end_time": "2025-01-28T13:03:27.504045",
     "exception": false,
     "start_time": "2025-01-28T13:03:27.499959",
     "status": "completed"
    },
    "tags": []
   },
   "source": [
    "**Reshape**"
   ]
  },
  {
   "cell_type": "code",
   "execution_count": 7,
   "id": "9a5314e9",
   "metadata": {
    "execution": {
     "iopub.execute_input": "2025-01-28T13:03:27.513401Z",
     "iopub.status.busy": "2025-01-28T13:03:27.513096Z",
     "iopub.status.idle": "2025-01-28T13:03:27.517122Z",
     "shell.execute_reply": "2025-01-28T13:03:27.516425Z"
    },
    "papermill": {
     "duration": 0.010294,
     "end_time": "2025-01-28T13:03:27.518404",
     "exception": false,
     "start_time": "2025-01-28T13:03:27.508110",
     "status": "completed"
    },
    "tags": []
   },
   "outputs": [],
   "source": [
    "#Reshape to (48,48,1)\n",
    "train_images=train_images.reshape(-1,48,48,1)\n",
    "val_images=val_images.reshape(-1,48,48,1)\n",
    "test_images=test_images.reshape(-1,48,48,1)"
   ]
  },
  {
   "cell_type": "code",
   "execution_count": 8,
   "id": "61d92f4f",
   "metadata": {
    "execution": {
     "iopub.execute_input": "2025-01-28T13:03:27.527428Z",
     "iopub.status.busy": "2025-01-28T13:03:27.527181Z",
     "iopub.status.idle": "2025-01-28T13:03:27.531650Z",
     "shell.execute_reply": "2025-01-28T13:03:27.530590Z"
    },
    "papermill": {
     "duration": 0.010425,
     "end_time": "2025-01-28T13:03:27.532923",
     "exception": false,
     "start_time": "2025-01-28T13:03:27.522498",
     "status": "completed"
    },
    "tags": []
   },
   "outputs": [
    {
     "name": "stdout",
     "output_type": "stream",
     "text": [
      "(28709, 48, 48, 1)\n",
      "(3589, 48, 48, 1)\n",
      "(3589, 48, 48, 1)\n"
     ]
    }
   ],
   "source": [
    "print(train_images.shape)\n",
    "print(val_images.shape)\n",
    "print(test_images.shape)"
   ]
  },
  {
   "cell_type": "markdown",
   "id": "9c3bd0a5",
   "metadata": {
    "papermill": {
     "duration": 0.004056,
     "end_time": "2025-01-28T13:03:27.541419",
     "exception": false,
     "start_time": "2025-01-28T13:03:27.537363",
     "status": "completed"
    },
    "tags": []
   },
   "source": [
    "**One_hot_encodings**"
   ]
  },
  {
   "cell_type": "code",
   "execution_count": 9,
   "id": "b0f14fde",
   "metadata": {
    "execution": {
     "iopub.execute_input": "2025-01-28T13:03:27.550829Z",
     "iopub.status.busy": "2025-01-28T13:03:27.550458Z",
     "iopub.status.idle": "2025-01-28T13:03:39.176303Z",
     "shell.execute_reply": "2025-01-28T13:03:39.175577Z"
    },
    "papermill": {
     "duration": 11.632361,
     "end_time": "2025-01-28T13:03:39.177864",
     "exception": false,
     "start_time": "2025-01-28T13:03:27.545503",
     "status": "completed"
    },
    "tags": []
   },
   "outputs": [],
   "source": [
    "from keras.utils import to_categorical\n",
    "\n",
    "train_labels = to_categorical(train_data['emotion'], num_classes=7)\n",
    "val_labels = to_categorical(val_data['emotion'], num_classes=7)\n",
    "test_labels = to_categorical(test_data['emotion'], num_classes=7)"
   ]
  },
  {
   "cell_type": "code",
   "execution_count": 10,
   "id": "009f82bf",
   "metadata": {
    "execution": {
     "iopub.execute_input": "2025-01-28T13:03:39.187531Z",
     "iopub.status.busy": "2025-01-28T13:03:39.187042Z",
     "iopub.status.idle": "2025-01-28T13:03:39.397390Z",
     "shell.execute_reply": "2025-01-28T13:03:39.396581Z"
    },
    "papermill": {
     "duration": 0.216492,
     "end_time": "2025-01-28T13:03:39.398966",
     "exception": false,
     "start_time": "2025-01-28T13:03:39.182474",
     "status": "completed"
    },
    "tags": []
   },
   "outputs": [],
   "source": [
    "# Concatenate images and labels along the first axis (axis=0)\n",
    "train_images = np.concatenate((train_images, val_images), axis=0)\n",
    "train_labels = np.concatenate((train_labels, val_labels), axis=0)"
   ]
  },
  {
   "cell_type": "code",
   "execution_count": 11,
   "id": "d1172686",
   "metadata": {
    "execution": {
     "iopub.execute_input": "2025-01-28T13:03:39.407875Z",
     "iopub.status.busy": "2025-01-28T13:03:39.407618Z",
     "iopub.status.idle": "2025-01-28T13:03:39.411840Z",
     "shell.execute_reply": "2025-01-28T13:03:39.410967Z"
    },
    "papermill": {
     "duration": 0.009895,
     "end_time": "2025-01-28T13:03:39.413170",
     "exception": false,
     "start_time": "2025-01-28T13:03:39.403275",
     "status": "completed"
    },
    "tags": []
   },
   "outputs": [
    {
     "name": "stdout",
     "output_type": "stream",
     "text": [
      "(32298, 48, 48, 1)\n",
      "(32298, 7)\n"
     ]
    }
   ],
   "source": [
    "print(train_images.shape)\n",
    "print(train_labels.shape)"
   ]
  },
  {
   "cell_type": "markdown",
   "id": "596caac9",
   "metadata": {
    "papermill": {
     "duration": 0.00365,
     "end_time": "2025-01-28T13:03:39.420759",
     "exception": false,
     "start_time": "2025-01-28T13:03:39.417109",
     "status": "completed"
    },
    "tags": []
   },
   "source": [
    "**Data Augmentation**"
   ]
  },
  {
   "cell_type": "markdown",
   "id": "07424d4a",
   "metadata": {
    "papermill": {
     "duration": 0.003526,
     "end_time": "2025-01-28T13:03:39.428160",
     "exception": false,
     "start_time": "2025-01-28T13:03:39.424634",
     "status": "completed"
    },
    "tags": []
   },
   "source": [
    "it does not work well with this data set"
   ]
  },
  {
   "cell_type": "code",
   "execution_count": 12,
   "id": "e6c8a271",
   "metadata": {
    "execution": {
     "iopub.execute_input": "2025-01-28T13:03:39.436419Z",
     "iopub.status.busy": "2025-01-28T13:03:39.436186Z",
     "iopub.status.idle": "2025-01-28T13:03:39.439250Z",
     "shell.execute_reply": "2025-01-28T13:03:39.438446Z"
    },
    "papermill": {
     "duration": 0.008431,
     "end_time": "2025-01-28T13:03:39.440376",
     "exception": false,
     "start_time": "2025-01-28T13:03:39.431945",
     "status": "completed"
    },
    "tags": []
   },
   "outputs": [],
   "source": [
    "# from tensorflow.keras.preprocessing.image import ImageDataGenerator\n",
    "\n",
    "# # Define the augmentation generator\n",
    "# datagen = ImageDataGenerator(\n",
    "#     rotation_range=30,  # Rotate images by up to 30 degrees\n",
    "#     zoom_range=0.2,  # Zoom in/out by up to 20%\n",
    "#     width_shift_range=0.2,  # Shift horizontally by up to 20%\n",
    "#     height_shift_range=0.2,  # Shift vertically by up to 20%\n",
    "#     horizontal_flip=True,  # Flip images horizontally\n",
    "#     fill_mode='nearest'  # Fill missing pixels with nearest values\n",
    "# )\n",
    "\n",
    "# # Assuming train_images is your preprocessed training data\n",
    "# datagen.fit(train_images)"
   ]
  },
  {
   "cell_type": "markdown",
   "id": "2ea65c88",
   "metadata": {
    "papermill": {
     "duration": 0.003574,
     "end_time": "2025-01-28T13:03:39.447937",
     "exception": false,
     "start_time": "2025-01-28T13:03:39.444363",
     "status": "completed"
    },
    "tags": []
   },
   "source": [
    "**Build a Model**"
   ]
  },
  {
   "cell_type": "code",
   "execution_count": 13,
   "id": "c8272ebd",
   "metadata": {
    "execution": {
     "iopub.execute_input": "2025-01-28T13:03:39.456256Z",
     "iopub.status.busy": "2025-01-28T13:03:39.456029Z",
     "iopub.status.idle": "2025-01-28T13:03:39.514213Z",
     "shell.execute_reply": "2025-01-28T13:03:39.513337Z"
    },
    "papermill": {
     "duration": 0.064017,
     "end_time": "2025-01-28T13:03:39.515774",
     "exception": false,
     "start_time": "2025-01-28T13:03:39.451757",
     "status": "completed"
    },
    "tags": []
   },
   "outputs": [],
   "source": [
    "from tensorflow.keras.models import Sequential\n",
    "from tensorflow.keras.layers import Conv2D, MaxPooling2D, Flatten, Dense, Dropout\n",
    "from tensorflow.keras.regularizers import l2\n",
    "from tensorflow.keras.optimizers import Adam\n"
   ]
  },
  {
   "cell_type": "code",
   "execution_count": 14,
   "id": "501ab3c9",
   "metadata": {
    "execution": {
     "iopub.execute_input": "2025-01-28T13:03:39.524625Z",
     "iopub.status.busy": "2025-01-28T13:03:39.524372Z",
     "iopub.status.idle": "2025-01-28T13:03:41.689101Z",
     "shell.execute_reply": "2025-01-28T13:03:41.688401Z"
    },
    "papermill": {
     "duration": 2.170665,
     "end_time": "2025-01-28T13:03:41.690344",
     "exception": false,
     "start_time": "2025-01-28T13:03:39.519679",
     "status": "completed"
    },
    "tags": []
   },
   "outputs": [
    {
     "name": "stderr",
     "output_type": "stream",
     "text": [
      "/usr/local/lib/python3.10/dist-packages/keras/src/layers/convolutional/base_conv.py:107: UserWarning: Do not pass an `input_shape`/`input_dim` argument to a layer. When using Sequential models, prefer using an `Input(shape)` object as the first layer in the model instead.\n",
      "  super().__init__(activity_regularizer=activity_regularizer, **kwargs)\n"
     ]
    },
    {
     "data": {
      "text/html": [
       "<pre style=\"white-space:pre;overflow-x:auto;line-height:normal;font-family:Menlo,'DejaVu Sans Mono',consolas,'Courier New',monospace\"><span style=\"font-weight: bold\">Model: \"sequential\"</span>\n",
       "</pre>\n"
      ],
      "text/plain": [
       "\u001b[1mModel: \"sequential\"\u001b[0m\n"
      ]
     },
     "metadata": {},
     "output_type": "display_data"
    },
    {
     "data": {
      "text/html": [
       "<pre style=\"white-space:pre;overflow-x:auto;line-height:normal;font-family:Menlo,'DejaVu Sans Mono',consolas,'Courier New',monospace\">┏━━━━━━━━━━━━━━━━━━━━━━━━━━━━━━━━━━━━━━┳━━━━━━━━━━━━━━━━━━━━━━━━━━━━━┳━━━━━━━━━━━━━━━━━┓\n",
       "┃<span style=\"font-weight: bold\"> Layer (type)                         </span>┃<span style=\"font-weight: bold\"> Output Shape                </span>┃<span style=\"font-weight: bold\">         Param # </span>┃\n",
       "┡━━━━━━━━━━━━━━━━━━━━━━━━━━━━━━━━━━━━━━╇━━━━━━━━━━━━━━━━━━━━━━━━━━━━━╇━━━━━━━━━━━━━━━━━┩\n",
       "│ conv2d (<span style=\"color: #0087ff; text-decoration-color: #0087ff\">Conv2D</span>)                      │ (<span style=\"color: #00d7ff; text-decoration-color: #00d7ff\">None</span>, <span style=\"color: #00af00; text-decoration-color: #00af00\">46</span>, <span style=\"color: #00af00; text-decoration-color: #00af00\">46</span>, <span style=\"color: #00af00; text-decoration-color: #00af00\">32</span>)          │             <span style=\"color: #00af00; text-decoration-color: #00af00\">320</span> │\n",
       "├──────────────────────────────────────┼─────────────────────────────┼─────────────────┤\n",
       "│ max_pooling2d (<span style=\"color: #0087ff; text-decoration-color: #0087ff\">MaxPooling2D</span>)         │ (<span style=\"color: #00d7ff; text-decoration-color: #00d7ff\">None</span>, <span style=\"color: #00af00; text-decoration-color: #00af00\">23</span>, <span style=\"color: #00af00; text-decoration-color: #00af00\">23</span>, <span style=\"color: #00af00; text-decoration-color: #00af00\">32</span>)          │               <span style=\"color: #00af00; text-decoration-color: #00af00\">0</span> │\n",
       "├──────────────────────────────────────┼─────────────────────────────┼─────────────────┤\n",
       "│ conv2d_1 (<span style=\"color: #0087ff; text-decoration-color: #0087ff\">Conv2D</span>)                    │ (<span style=\"color: #00d7ff; text-decoration-color: #00d7ff\">None</span>, <span style=\"color: #00af00; text-decoration-color: #00af00\">21</span>, <span style=\"color: #00af00; text-decoration-color: #00af00\">21</span>, <span style=\"color: #00af00; text-decoration-color: #00af00\">64</span>)          │          <span style=\"color: #00af00; text-decoration-color: #00af00\">18,496</span> │\n",
       "├──────────────────────────────────────┼─────────────────────────────┼─────────────────┤\n",
       "│ max_pooling2d_1 (<span style=\"color: #0087ff; text-decoration-color: #0087ff\">MaxPooling2D</span>)       │ (<span style=\"color: #00d7ff; text-decoration-color: #00d7ff\">None</span>, <span style=\"color: #00af00; text-decoration-color: #00af00\">10</span>, <span style=\"color: #00af00; text-decoration-color: #00af00\">10</span>, <span style=\"color: #00af00; text-decoration-color: #00af00\">64</span>)          │               <span style=\"color: #00af00; text-decoration-color: #00af00\">0</span> │\n",
       "├──────────────────────────────────────┼─────────────────────────────┼─────────────────┤\n",
       "│ conv2d_2 (<span style=\"color: #0087ff; text-decoration-color: #0087ff\">Conv2D</span>)                    │ (<span style=\"color: #00d7ff; text-decoration-color: #00d7ff\">None</span>, <span style=\"color: #00af00; text-decoration-color: #00af00\">8</span>, <span style=\"color: #00af00; text-decoration-color: #00af00\">8</span>, <span style=\"color: #00af00; text-decoration-color: #00af00\">124</span>)           │          <span style=\"color: #00af00; text-decoration-color: #00af00\">71,548</span> │\n",
       "├──────────────────────────────────────┼─────────────────────────────┼─────────────────┤\n",
       "│ max_pooling2d_2 (<span style=\"color: #0087ff; text-decoration-color: #0087ff\">MaxPooling2D</span>)       │ (<span style=\"color: #00d7ff; text-decoration-color: #00d7ff\">None</span>, <span style=\"color: #00af00; text-decoration-color: #00af00\">4</span>, <span style=\"color: #00af00; text-decoration-color: #00af00\">4</span>, <span style=\"color: #00af00; text-decoration-color: #00af00\">124</span>)           │               <span style=\"color: #00af00; text-decoration-color: #00af00\">0</span> │\n",
       "├──────────────────────────────────────┼─────────────────────────────┼─────────────────┤\n",
       "│ conv2d_3 (<span style=\"color: #0087ff; text-decoration-color: #0087ff\">Conv2D</span>)                    │ (<span style=\"color: #00d7ff; text-decoration-color: #00d7ff\">None</span>, <span style=\"color: #00af00; text-decoration-color: #00af00\">2</span>, <span style=\"color: #00af00; text-decoration-color: #00af00\">2</span>, <span style=\"color: #00af00; text-decoration-color: #00af00\">256</span>)           │         <span style=\"color: #00af00; text-decoration-color: #00af00\">285,952</span> │\n",
       "├──────────────────────────────────────┼─────────────────────────────┼─────────────────┤\n",
       "│ max_pooling2d_3 (<span style=\"color: #0087ff; text-decoration-color: #0087ff\">MaxPooling2D</span>)       │ (<span style=\"color: #00d7ff; text-decoration-color: #00d7ff\">None</span>, <span style=\"color: #00af00; text-decoration-color: #00af00\">1</span>, <span style=\"color: #00af00; text-decoration-color: #00af00\">1</span>, <span style=\"color: #00af00; text-decoration-color: #00af00\">256</span>)           │               <span style=\"color: #00af00; text-decoration-color: #00af00\">0</span> │\n",
       "├──────────────────────────────────────┼─────────────────────────────┼─────────────────┤\n",
       "│ flatten (<span style=\"color: #0087ff; text-decoration-color: #0087ff\">Flatten</span>)                    │ (<span style=\"color: #00d7ff; text-decoration-color: #00d7ff\">None</span>, <span style=\"color: #00af00; text-decoration-color: #00af00\">256</span>)                 │               <span style=\"color: #00af00; text-decoration-color: #00af00\">0</span> │\n",
       "├──────────────────────────────────────┼─────────────────────────────┼─────────────────┤\n",
       "│ dense (<span style=\"color: #0087ff; text-decoration-color: #0087ff\">Dense</span>)                        │ (<span style=\"color: #00d7ff; text-decoration-color: #00d7ff\">None</span>, <span style=\"color: #00af00; text-decoration-color: #00af00\">128</span>)                 │          <span style=\"color: #00af00; text-decoration-color: #00af00\">32,896</span> │\n",
       "├──────────────────────────────────────┼─────────────────────────────┼─────────────────┤\n",
       "│ dropout (<span style=\"color: #0087ff; text-decoration-color: #0087ff\">Dropout</span>)                    │ (<span style=\"color: #00d7ff; text-decoration-color: #00d7ff\">None</span>, <span style=\"color: #00af00; text-decoration-color: #00af00\">128</span>)                 │               <span style=\"color: #00af00; text-decoration-color: #00af00\">0</span> │\n",
       "├──────────────────────────────────────┼─────────────────────────────┼─────────────────┤\n",
       "│ dense_1 (<span style=\"color: #0087ff; text-decoration-color: #0087ff\">Dense</span>)                      │ (<span style=\"color: #00d7ff; text-decoration-color: #00d7ff\">None</span>, <span style=\"color: #00af00; text-decoration-color: #00af00\">128</span>)                 │          <span style=\"color: #00af00; text-decoration-color: #00af00\">16,512</span> │\n",
       "├──────────────────────────────────────┼─────────────────────────────┼─────────────────┤\n",
       "│ dropout_1 (<span style=\"color: #0087ff; text-decoration-color: #0087ff\">Dropout</span>)                  │ (<span style=\"color: #00d7ff; text-decoration-color: #00d7ff\">None</span>, <span style=\"color: #00af00; text-decoration-color: #00af00\">128</span>)                 │               <span style=\"color: #00af00; text-decoration-color: #00af00\">0</span> │\n",
       "├──────────────────────────────────────┼─────────────────────────────┼─────────────────┤\n",
       "│ dense_2 (<span style=\"color: #0087ff; text-decoration-color: #0087ff\">Dense</span>)                      │ (<span style=\"color: #00d7ff; text-decoration-color: #00d7ff\">None</span>, <span style=\"color: #00af00; text-decoration-color: #00af00\">7</span>)                   │             <span style=\"color: #00af00; text-decoration-color: #00af00\">903</span> │\n",
       "└──────────────────────────────────────┴─────────────────────────────┴─────────────────┘\n",
       "</pre>\n"
      ],
      "text/plain": [
       "┏━━━━━━━━━━━━━━━━━━━━━━━━━━━━━━━━━━━━━━┳━━━━━━━━━━━━━━━━━━━━━━━━━━━━━┳━━━━━━━━━━━━━━━━━┓\n",
       "┃\u001b[1m \u001b[0m\u001b[1mLayer (type)                        \u001b[0m\u001b[1m \u001b[0m┃\u001b[1m \u001b[0m\u001b[1mOutput Shape               \u001b[0m\u001b[1m \u001b[0m┃\u001b[1m \u001b[0m\u001b[1m        Param #\u001b[0m\u001b[1m \u001b[0m┃\n",
       "┡━━━━━━━━━━━━━━━━━━━━━━━━━━━━━━━━━━━━━━╇━━━━━━━━━━━━━━━━━━━━━━━━━━━━━╇━━━━━━━━━━━━━━━━━┩\n",
       "│ conv2d (\u001b[38;5;33mConv2D\u001b[0m)                      │ (\u001b[38;5;45mNone\u001b[0m, \u001b[38;5;34m46\u001b[0m, \u001b[38;5;34m46\u001b[0m, \u001b[38;5;34m32\u001b[0m)          │             \u001b[38;5;34m320\u001b[0m │\n",
       "├──────────────────────────────────────┼─────────────────────────────┼─────────────────┤\n",
       "│ max_pooling2d (\u001b[38;5;33mMaxPooling2D\u001b[0m)         │ (\u001b[38;5;45mNone\u001b[0m, \u001b[38;5;34m23\u001b[0m, \u001b[38;5;34m23\u001b[0m, \u001b[38;5;34m32\u001b[0m)          │               \u001b[38;5;34m0\u001b[0m │\n",
       "├──────────────────────────────────────┼─────────────────────────────┼─────────────────┤\n",
       "│ conv2d_1 (\u001b[38;5;33mConv2D\u001b[0m)                    │ (\u001b[38;5;45mNone\u001b[0m, \u001b[38;5;34m21\u001b[0m, \u001b[38;5;34m21\u001b[0m, \u001b[38;5;34m64\u001b[0m)          │          \u001b[38;5;34m18,496\u001b[0m │\n",
       "├──────────────────────────────────────┼─────────────────────────────┼─────────────────┤\n",
       "│ max_pooling2d_1 (\u001b[38;5;33mMaxPooling2D\u001b[0m)       │ (\u001b[38;5;45mNone\u001b[0m, \u001b[38;5;34m10\u001b[0m, \u001b[38;5;34m10\u001b[0m, \u001b[38;5;34m64\u001b[0m)          │               \u001b[38;5;34m0\u001b[0m │\n",
       "├──────────────────────────────────────┼─────────────────────────────┼─────────────────┤\n",
       "│ conv2d_2 (\u001b[38;5;33mConv2D\u001b[0m)                    │ (\u001b[38;5;45mNone\u001b[0m, \u001b[38;5;34m8\u001b[0m, \u001b[38;5;34m8\u001b[0m, \u001b[38;5;34m124\u001b[0m)           │          \u001b[38;5;34m71,548\u001b[0m │\n",
       "├──────────────────────────────────────┼─────────────────────────────┼─────────────────┤\n",
       "│ max_pooling2d_2 (\u001b[38;5;33mMaxPooling2D\u001b[0m)       │ (\u001b[38;5;45mNone\u001b[0m, \u001b[38;5;34m4\u001b[0m, \u001b[38;5;34m4\u001b[0m, \u001b[38;5;34m124\u001b[0m)           │               \u001b[38;5;34m0\u001b[0m │\n",
       "├──────────────────────────────────────┼─────────────────────────────┼─────────────────┤\n",
       "│ conv2d_3 (\u001b[38;5;33mConv2D\u001b[0m)                    │ (\u001b[38;5;45mNone\u001b[0m, \u001b[38;5;34m2\u001b[0m, \u001b[38;5;34m2\u001b[0m, \u001b[38;5;34m256\u001b[0m)           │         \u001b[38;5;34m285,952\u001b[0m │\n",
       "├──────────────────────────────────────┼─────────────────────────────┼─────────────────┤\n",
       "│ max_pooling2d_3 (\u001b[38;5;33mMaxPooling2D\u001b[0m)       │ (\u001b[38;5;45mNone\u001b[0m, \u001b[38;5;34m1\u001b[0m, \u001b[38;5;34m1\u001b[0m, \u001b[38;5;34m256\u001b[0m)           │               \u001b[38;5;34m0\u001b[0m │\n",
       "├──────────────────────────────────────┼─────────────────────────────┼─────────────────┤\n",
       "│ flatten (\u001b[38;5;33mFlatten\u001b[0m)                    │ (\u001b[38;5;45mNone\u001b[0m, \u001b[38;5;34m256\u001b[0m)                 │               \u001b[38;5;34m0\u001b[0m │\n",
       "├──────────────────────────────────────┼─────────────────────────────┼─────────────────┤\n",
       "│ dense (\u001b[38;5;33mDense\u001b[0m)                        │ (\u001b[38;5;45mNone\u001b[0m, \u001b[38;5;34m128\u001b[0m)                 │          \u001b[38;5;34m32,896\u001b[0m │\n",
       "├──────────────────────────────────────┼─────────────────────────────┼─────────────────┤\n",
       "│ dropout (\u001b[38;5;33mDropout\u001b[0m)                    │ (\u001b[38;5;45mNone\u001b[0m, \u001b[38;5;34m128\u001b[0m)                 │               \u001b[38;5;34m0\u001b[0m │\n",
       "├──────────────────────────────────────┼─────────────────────────────┼─────────────────┤\n",
       "│ dense_1 (\u001b[38;5;33mDense\u001b[0m)                      │ (\u001b[38;5;45mNone\u001b[0m, \u001b[38;5;34m128\u001b[0m)                 │          \u001b[38;5;34m16,512\u001b[0m │\n",
       "├──────────────────────────────────────┼─────────────────────────────┼─────────────────┤\n",
       "│ dropout_1 (\u001b[38;5;33mDropout\u001b[0m)                  │ (\u001b[38;5;45mNone\u001b[0m, \u001b[38;5;34m128\u001b[0m)                 │               \u001b[38;5;34m0\u001b[0m │\n",
       "├──────────────────────────────────────┼─────────────────────────────┼─────────────────┤\n",
       "│ dense_2 (\u001b[38;5;33mDense\u001b[0m)                      │ (\u001b[38;5;45mNone\u001b[0m, \u001b[38;5;34m7\u001b[0m)                   │             \u001b[38;5;34m903\u001b[0m │\n",
       "└──────────────────────────────────────┴─────────────────────────────┴─────────────────┘\n"
      ]
     },
     "metadata": {},
     "output_type": "display_data"
    },
    {
     "data": {
      "text/html": [
       "<pre style=\"white-space:pre;overflow-x:auto;line-height:normal;font-family:Menlo,'DejaVu Sans Mono',consolas,'Courier New',monospace\"><span style=\"font-weight: bold\"> Total params: </span><span style=\"color: #00af00; text-decoration-color: #00af00\">426,627</span> (1.63 MB)\n",
       "</pre>\n"
      ],
      "text/plain": [
       "\u001b[1m Total params: \u001b[0m\u001b[38;5;34m426,627\u001b[0m (1.63 MB)\n"
      ]
     },
     "metadata": {},
     "output_type": "display_data"
    },
    {
     "data": {
      "text/html": [
       "<pre style=\"white-space:pre;overflow-x:auto;line-height:normal;font-family:Menlo,'DejaVu Sans Mono',consolas,'Courier New',monospace\"><span style=\"font-weight: bold\"> Trainable params: </span><span style=\"color: #00af00; text-decoration-color: #00af00\">426,627</span> (1.63 MB)\n",
       "</pre>\n"
      ],
      "text/plain": [
       "\u001b[1m Trainable params: \u001b[0m\u001b[38;5;34m426,627\u001b[0m (1.63 MB)\n"
      ]
     },
     "metadata": {},
     "output_type": "display_data"
    },
    {
     "data": {
      "text/html": [
       "<pre style=\"white-space:pre;overflow-x:auto;line-height:normal;font-family:Menlo,'DejaVu Sans Mono',consolas,'Courier New',monospace\"><span style=\"font-weight: bold\"> Non-trainable params: </span><span style=\"color: #00af00; text-decoration-color: #00af00\">0</span> (0.00 B)\n",
       "</pre>\n"
      ],
      "text/plain": [
       "\u001b[1m Non-trainable params: \u001b[0m\u001b[38;5;34m0\u001b[0m (0.00 B)\n"
      ]
     },
     "metadata": {},
     "output_type": "display_data"
    }
   ],
   "source": [
    "# Add some  Regularization  to avoid overfiting\n",
    "model = Sequential([\n",
    "    Conv2D(32, (3, 3),kernel_regularizer=l2(0.001), activation='relu', input_shape=(48, 48, 1)),\n",
    "    MaxPooling2D((2, 2)),\n",
    "    Conv2D(64, (3, 3) ,kernel_regularizer=l2(0.001),activation='relu'),\n",
    "    MaxPooling2D((2, 2)),\n",
    "    Conv2D(124, (3, 3) ,kernel_regularizer=l2(0.001),activation='relu'),\n",
    "    MaxPooling2D((2, 2)),\n",
    "    Conv2D(256, (3, 3) ,kernel_regularizer=l2(0.001), activation='relu'),\n",
    "    MaxPooling2D((2, 2)),\n",
    "    \n",
    "    Flatten(),\n",
    "    Dense(128, kernel_regularizer=l2(0.001),activation='relu'),\n",
    "    Dropout(0.5),\n",
    "    Dense(128,kernel_regularizer=l2(0.001),activation='relu'),\n",
    "    Dropout(0.5),\n",
    "    Dense(7, activation='softmax')\n",
    "])\n",
    "model.summary()\n"
   ]
  },
  {
   "cell_type": "code",
   "execution_count": 15,
   "id": "1e37af2f",
   "metadata": {
    "execution": {
     "iopub.execute_input": "2025-01-28T13:03:41.700500Z",
     "iopub.status.busy": "2025-01-28T13:03:41.700215Z",
     "iopub.status.idle": "2025-01-28T13:08:18.494767Z",
     "shell.execute_reply": "2025-01-28T13:08:18.493841Z"
    },
    "papermill": {
     "duration": 276.80104,
     "end_time": "2025-01-28T13:08:18.496258",
     "exception": false,
     "start_time": "2025-01-28T13:03:41.695218",
     "status": "completed"
    },
    "tags": []
   },
   "outputs": [
    {
     "name": "stdout",
     "output_type": "stream",
     "text": [
      "Epoch 1/80\n",
      "\u001b[1m1010/1010\u001b[0m \u001b[32m━━━━━━━━━━━━━━━━━━━━\u001b[0m\u001b[37m\u001b[0m \u001b[1m12s\u001b[0m 6ms/step - accuracy: 0.1812 - loss: 3.1677\n",
      "Epoch 2/80\n",
      "\u001b[1m1010/1010\u001b[0m \u001b[32m━━━━━━━━━━━━━━━━━━━━\u001b[0m\u001b[37m\u001b[0m \u001b[1m3s\u001b[0m 3ms/step - accuracy: 0.2310 - loss: 2.2820\n",
      "Epoch 3/80\n",
      "\u001b[1m1010/1010\u001b[0m \u001b[32m━━━━━━━━━━━━━━━━━━━━\u001b[0m\u001b[37m\u001b[0m \u001b[1m3s\u001b[0m 3ms/step - accuracy: 0.2444 - loss: 2.1846\n",
      "Epoch 4/80\n",
      "\u001b[1m1010/1010\u001b[0m \u001b[32m━━━━━━━━━━━━━━━━━━━━\u001b[0m\u001b[37m\u001b[0m \u001b[1m3s\u001b[0m 3ms/step - accuracy: 0.2878 - loss: 2.0637\n",
      "Epoch 5/80\n",
      "\u001b[1m1010/1010\u001b[0m \u001b[32m━━━━━━━━━━━━━━━━━━━━\u001b[0m\u001b[37m\u001b[0m \u001b[1m3s\u001b[0m 3ms/step - accuracy: 0.3478 - loss: 1.9098\n",
      "Epoch 6/80\n",
      "\u001b[1m1010/1010\u001b[0m \u001b[32m━━━━━━━━━━━━━━━━━━━━\u001b[0m\u001b[37m\u001b[0m \u001b[1m3s\u001b[0m 3ms/step - accuracy: 0.3944 - loss: 1.7831\n",
      "Epoch 7/80\n",
      "\u001b[1m1010/1010\u001b[0m \u001b[32m━━━━━━━━━━━━━━━━━━━━\u001b[0m\u001b[37m\u001b[0m \u001b[1m3s\u001b[0m 3ms/step - accuracy: 0.4458 - loss: 1.6679\n",
      "Epoch 8/80\n",
      "\u001b[1m1010/1010\u001b[0m \u001b[32m━━━━━━━━━━━━━━━━━━━━\u001b[0m\u001b[37m\u001b[0m \u001b[1m3s\u001b[0m 3ms/step - accuracy: 0.4813 - loss: 1.5637\n",
      "Epoch 9/80\n",
      "\u001b[1m1010/1010\u001b[0m \u001b[32m━━━━━━━━━━━━━━━━━━━━\u001b[0m\u001b[37m\u001b[0m \u001b[1m3s\u001b[0m 3ms/step - accuracy: 0.5055 - loss: 1.4932\n",
      "Epoch 10/80\n",
      "\u001b[1m1010/1010\u001b[0m \u001b[32m━━━━━━━━━━━━━━━━━━━━\u001b[0m\u001b[37m\u001b[0m \u001b[1m3s\u001b[0m 3ms/step - accuracy: 0.5430 - loss: 1.4043\n",
      "Epoch 11/80\n",
      "\u001b[1m1010/1010\u001b[0m \u001b[32m━━━━━━━━━━━━━━━━━━━━\u001b[0m\u001b[37m\u001b[0m \u001b[1m3s\u001b[0m 3ms/step - accuracy: 0.5640 - loss: 1.3475\n",
      "Epoch 12/80\n",
      "\u001b[1m1010/1010\u001b[0m \u001b[32m━━━━━━━━━━━━━━━━━━━━\u001b[0m\u001b[37m\u001b[0m \u001b[1m3s\u001b[0m 3ms/step - accuracy: 0.5873 - loss: 1.2819\n",
      "Epoch 13/80\n",
      "\u001b[1m1010/1010\u001b[0m \u001b[32m━━━━━━━━━━━━━━━━━━━━\u001b[0m\u001b[37m\u001b[0m \u001b[1m3s\u001b[0m 3ms/step - accuracy: 0.6110 - loss: 1.2280\n",
      "Epoch 14/80\n",
      "\u001b[1m1010/1010\u001b[0m \u001b[32m━━━━━━━━━━━━━━━━━━━━\u001b[0m\u001b[37m\u001b[0m \u001b[1m3s\u001b[0m 3ms/step - accuracy: 0.6384 - loss: 1.1623\n",
      "Epoch 15/80\n",
      "\u001b[1m1010/1010\u001b[0m \u001b[32m━━━━━━━━━━━━━━━━━━━━\u001b[0m\u001b[37m\u001b[0m \u001b[1m3s\u001b[0m 3ms/step - accuracy: 0.6589 - loss: 1.1036\n",
      "Epoch 16/80\n",
      "\u001b[1m1010/1010\u001b[0m \u001b[32m━━━━━━━━━━━━━━━━━━━━\u001b[0m\u001b[37m\u001b[0m \u001b[1m3s\u001b[0m 3ms/step - accuracy: 0.6794 - loss: 1.0494\n",
      "Epoch 17/80\n",
      "\u001b[1m1010/1010\u001b[0m \u001b[32m━━━━━━━━━━━━━━━━━━━━\u001b[0m\u001b[37m\u001b[0m \u001b[1m3s\u001b[0m 3ms/step - accuracy: 0.7059 - loss: 0.9819\n",
      "Epoch 18/80\n",
      "\u001b[1m1010/1010\u001b[0m \u001b[32m━━━━━━━━━━━━━━━━━━━━\u001b[0m\u001b[37m\u001b[0m \u001b[1m3s\u001b[0m 3ms/step - accuracy: 0.7336 - loss: 0.9235\n",
      "Epoch 19/80\n",
      "\u001b[1m1010/1010\u001b[0m \u001b[32m━━━━━━━━━━━━━━━━━━━━\u001b[0m\u001b[37m\u001b[0m \u001b[1m3s\u001b[0m 3ms/step - accuracy: 0.7566 - loss: 0.8663\n",
      "Epoch 20/80\n",
      "\u001b[1m1010/1010\u001b[0m \u001b[32m━━━━━━━━━━━━━━━━━━━━\u001b[0m\u001b[37m\u001b[0m \u001b[1m3s\u001b[0m 3ms/step - accuracy: 0.7811 - loss: 0.8031\n",
      "Epoch 21/80\n",
      "\u001b[1m1010/1010\u001b[0m \u001b[32m━━━━━━━━━━━━━━━━━━━━\u001b[0m\u001b[37m\u001b[0m \u001b[1m3s\u001b[0m 3ms/step - accuracy: 0.7989 - loss: 0.7523\n",
      "Epoch 22/80\n",
      "\u001b[1m1010/1010\u001b[0m \u001b[32m━━━━━━━━━━━━━━━━━━━━\u001b[0m\u001b[37m\u001b[0m \u001b[1m3s\u001b[0m 3ms/step - accuracy: 0.8183 - loss: 0.6975\n",
      "Epoch 23/80\n",
      "\u001b[1m1010/1010\u001b[0m \u001b[32m━━━━━━━━━━━━━━━━━━━━\u001b[0m\u001b[37m\u001b[0m \u001b[1m3s\u001b[0m 3ms/step - accuracy: 0.8419 - loss: 0.6442\n",
      "Epoch 24/80\n",
      "\u001b[1m1010/1010\u001b[0m \u001b[32m━━━━━━━━━━━━━━━━━━━━\u001b[0m\u001b[37m\u001b[0m \u001b[1m3s\u001b[0m 3ms/step - accuracy: 0.8604 - loss: 0.5984\n",
      "Epoch 25/80\n",
      "\u001b[1m1010/1010\u001b[0m \u001b[32m━━━━━━━━━━━━━━━━━━━━\u001b[0m\u001b[37m\u001b[0m \u001b[1m3s\u001b[0m 3ms/step - accuracy: 0.8693 - loss: 0.5763\n",
      "Epoch 26/80\n",
      "\u001b[1m1010/1010\u001b[0m \u001b[32m━━━━━━━━━━━━━━━━━━━━\u001b[0m\u001b[37m\u001b[0m \u001b[1m3s\u001b[0m 3ms/step - accuracy: 0.8861 - loss: 0.5332\n",
      "Epoch 27/80\n",
      "\u001b[1m1010/1010\u001b[0m \u001b[32m━━━━━━━━━━━━━━━━━━━━\u001b[0m\u001b[37m\u001b[0m \u001b[1m3s\u001b[0m 3ms/step - accuracy: 0.8949 - loss: 0.5118\n",
      "Epoch 28/80\n",
      "\u001b[1m1010/1010\u001b[0m \u001b[32m━━━━━━━━━━━━━━━━━━━━\u001b[0m\u001b[37m\u001b[0m \u001b[1m3s\u001b[0m 3ms/step - accuracy: 0.9075 - loss: 0.4737\n",
      "Epoch 29/80\n",
      "\u001b[1m1010/1010\u001b[0m \u001b[32m━━━━━━━━━━━━━━━━━━━━\u001b[0m\u001b[37m\u001b[0m \u001b[1m3s\u001b[0m 3ms/step - accuracy: 0.9100 - loss: 0.4735\n",
      "Epoch 30/80\n",
      "\u001b[1m1010/1010\u001b[0m \u001b[32m━━━━━━━━━━━━━━━━━━━━\u001b[0m\u001b[37m\u001b[0m \u001b[1m3s\u001b[0m 3ms/step - accuracy: 0.9205 - loss: 0.4461\n",
      "Epoch 31/80\n",
      "\u001b[1m1010/1010\u001b[0m \u001b[32m━━━━━━━━━━━━━━━━━━━━\u001b[0m\u001b[37m\u001b[0m \u001b[1m3s\u001b[0m 3ms/step - accuracy: 0.9277 - loss: 0.4349\n",
      "Epoch 32/80\n",
      "\u001b[1m1010/1010\u001b[0m \u001b[32m━━━━━━━━━━━━━━━━━━━━\u001b[0m\u001b[37m\u001b[0m \u001b[1m3s\u001b[0m 3ms/step - accuracy: 0.9340 - loss: 0.4091\n",
      "Epoch 33/80\n",
      "\u001b[1m1010/1010\u001b[0m \u001b[32m━━━━━━━━━━━━━━━━━━━━\u001b[0m\u001b[37m\u001b[0m \u001b[1m3s\u001b[0m 3ms/step - accuracy: 0.9326 - loss: 0.4172\n",
      "Epoch 34/80\n",
      "\u001b[1m1010/1010\u001b[0m \u001b[32m━━━━━━━━━━━━━━━━━━━━\u001b[0m\u001b[37m\u001b[0m \u001b[1m3s\u001b[0m 3ms/step - accuracy: 0.9424 - loss: 0.3936\n",
      "Epoch 35/80\n",
      "\u001b[1m1010/1010\u001b[0m \u001b[32m━━━━━━━━━━━━━━━━━━━━\u001b[0m\u001b[37m\u001b[0m \u001b[1m3s\u001b[0m 3ms/step - accuracy: 0.9431 - loss: 0.3893\n",
      "Epoch 36/80\n",
      "\u001b[1m1010/1010\u001b[0m \u001b[32m━━━━━━━━━━━━━━━━━━━━\u001b[0m\u001b[37m\u001b[0m \u001b[1m3s\u001b[0m 3ms/step - accuracy: 0.9493 - loss: 0.3687\n",
      "Epoch 37/80\n",
      "\u001b[1m1010/1010\u001b[0m \u001b[32m━━━━━━━━━━━━━━━━━━━━\u001b[0m\u001b[37m\u001b[0m \u001b[1m3s\u001b[0m 3ms/step - accuracy: 0.9525 - loss: 0.3643\n",
      "Epoch 38/80\n",
      "\u001b[1m1010/1010\u001b[0m \u001b[32m━━━━━━━━━━━━━━━━━━━━\u001b[0m\u001b[37m\u001b[0m \u001b[1m3s\u001b[0m 3ms/step - accuracy: 0.9497 - loss: 0.3748\n",
      "Epoch 39/80\n",
      "\u001b[1m1010/1010\u001b[0m \u001b[32m━━━━━━━━━━━━━━━━━━━━\u001b[0m\u001b[37m\u001b[0m \u001b[1m3s\u001b[0m 3ms/step - accuracy: 0.9557 - loss: 0.3554\n",
      "Epoch 40/80\n",
      "\u001b[1m1010/1010\u001b[0m \u001b[32m━━━━━━━━━━━━━━━━━━━━\u001b[0m\u001b[37m\u001b[0m \u001b[1m3s\u001b[0m 3ms/step - accuracy: 0.9560 - loss: 0.3547\n",
      "Epoch 41/80\n",
      "\u001b[1m1010/1010\u001b[0m \u001b[32m━━━━━━━━━━━━━━━━━━━━\u001b[0m\u001b[37m\u001b[0m \u001b[1m3s\u001b[0m 3ms/step - accuracy: 0.9611 - loss: 0.3394\n",
      "Epoch 42/80\n",
      "\u001b[1m1010/1010\u001b[0m \u001b[32m━━━━━━━━━━━━━━━━━━━━\u001b[0m\u001b[37m\u001b[0m \u001b[1m3s\u001b[0m 3ms/step - accuracy: 0.9633 - loss: 0.3373\n",
      "Epoch 43/80\n",
      "\u001b[1m1010/1010\u001b[0m \u001b[32m━━━━━━━━━━━━━━━━━━━━\u001b[0m\u001b[37m\u001b[0m \u001b[1m3s\u001b[0m 3ms/step - accuracy: 0.9659 - loss: 0.3319\n",
      "Epoch 44/80\n",
      "\u001b[1m1010/1010\u001b[0m \u001b[32m━━━━━━━━━━━━━━━━━━━━\u001b[0m\u001b[37m\u001b[0m \u001b[1m3s\u001b[0m 3ms/step - accuracy: 0.9612 - loss: 0.3432\n",
      "Epoch 45/80\n",
      "\u001b[1m1010/1010\u001b[0m \u001b[32m━━━━━━━━━━━━━━━━━━━━\u001b[0m\u001b[37m\u001b[0m \u001b[1m3s\u001b[0m 3ms/step - accuracy: 0.9652 - loss: 0.3349\n",
      "Epoch 46/80\n",
      "\u001b[1m1010/1010\u001b[0m \u001b[32m━━━━━━━━━━━━━━━━━━━━\u001b[0m\u001b[37m\u001b[0m \u001b[1m3s\u001b[0m 3ms/step - accuracy: 0.9656 - loss: 0.3276\n",
      "Epoch 47/80\n",
      "\u001b[1m1010/1010\u001b[0m \u001b[32m━━━━━━━━━━━━━━━━━━━━\u001b[0m\u001b[37m\u001b[0m \u001b[1m3s\u001b[0m 3ms/step - accuracy: 0.9694 - loss: 0.3220\n",
      "Epoch 48/80\n",
      "\u001b[1m1010/1010\u001b[0m \u001b[32m━━━━━━━━━━━━━━━━━━━━\u001b[0m\u001b[37m\u001b[0m \u001b[1m3s\u001b[0m 3ms/step - accuracy: 0.9652 - loss: 0.3362\n",
      "Epoch 49/80\n",
      "\u001b[1m1010/1010\u001b[0m \u001b[32m━━━━━━━━━━━━━━━━━━━━\u001b[0m\u001b[37m\u001b[0m \u001b[1m3s\u001b[0m 3ms/step - accuracy: 0.9703 - loss: 0.3177\n",
      "Epoch 50/80\n",
      "\u001b[1m1010/1010\u001b[0m \u001b[32m━━━━━━━━━━━━━━━━━━━━\u001b[0m\u001b[37m\u001b[0m \u001b[1m3s\u001b[0m 3ms/step - accuracy: 0.9743 - loss: 0.3084\n",
      "Epoch 51/80\n",
      "\u001b[1m1010/1010\u001b[0m \u001b[32m━━━━━━━━━━━━━━━━━━━━\u001b[0m\u001b[37m\u001b[0m \u001b[1m3s\u001b[0m 3ms/step - accuracy: 0.9686 - loss: 0.3235\n",
      "Epoch 52/80\n",
      "\u001b[1m1010/1010\u001b[0m \u001b[32m━━━━━━━━━━━━━━━━━━━━\u001b[0m\u001b[37m\u001b[0m \u001b[1m3s\u001b[0m 3ms/step - accuracy: 0.9728 - loss: 0.3104\n",
      "Epoch 53/80\n",
      "\u001b[1m1010/1010\u001b[0m \u001b[32m━━━━━━━━━━━━━━━━━━━━\u001b[0m\u001b[37m\u001b[0m \u001b[1m3s\u001b[0m 3ms/step - accuracy: 0.9705 - loss: 0.3195\n",
      "Epoch 54/80\n",
      "\u001b[1m1010/1010\u001b[0m \u001b[32m━━━━━━━━━━━━━━━━━━━━\u001b[0m\u001b[37m\u001b[0m \u001b[1m3s\u001b[0m 3ms/step - accuracy: 0.9746 - loss: 0.3069\n",
      "Epoch 55/80\n",
      "\u001b[1m1010/1010\u001b[0m \u001b[32m━━━━━━━━━━━━━━━━━━━━\u001b[0m\u001b[37m\u001b[0m \u001b[1m3s\u001b[0m 3ms/step - accuracy: 0.9713 - loss: 0.3165\n",
      "Epoch 56/80\n",
      "\u001b[1m1010/1010\u001b[0m \u001b[32m━━━━━━━━━━━━━━━━━━━━\u001b[0m\u001b[37m\u001b[0m \u001b[1m3s\u001b[0m 3ms/step - accuracy: 0.9768 - loss: 0.2995\n",
      "Epoch 57/80\n",
      "\u001b[1m1010/1010\u001b[0m \u001b[32m━━━━━━━━━━━━━━━━━━━━\u001b[0m\u001b[37m\u001b[0m \u001b[1m3s\u001b[0m 3ms/step - accuracy: 0.9764 - loss: 0.3037\n",
      "Epoch 58/80\n",
      "\u001b[1m1010/1010\u001b[0m \u001b[32m━━━━━━━━━━━━━━━━━━━━\u001b[0m\u001b[37m\u001b[0m \u001b[1m3s\u001b[0m 3ms/step - accuracy: 0.9745 - loss: 0.3108\n",
      "Epoch 59/80\n",
      "\u001b[1m1010/1010\u001b[0m \u001b[32m━━━━━━━━━━━━━━━━━━━━\u001b[0m\u001b[37m\u001b[0m \u001b[1m3s\u001b[0m 3ms/step - accuracy: 0.9766 - loss: 0.3052\n",
      "Epoch 60/80\n",
      "\u001b[1m1010/1010\u001b[0m \u001b[32m━━━━━━━━━━━━━━━━━━━━\u001b[0m\u001b[37m\u001b[0m \u001b[1m3s\u001b[0m 3ms/step - accuracy: 0.9802 - loss: 0.2880\n",
      "Epoch 61/80\n",
      "\u001b[1m1010/1010\u001b[0m \u001b[32m━━━━━━━━━━━━━━━━━━━━\u001b[0m\u001b[37m\u001b[0m \u001b[1m3s\u001b[0m 3ms/step - accuracy: 0.9716 - loss: 0.3147\n",
      "Epoch 62/80\n",
      "\u001b[1m1010/1010\u001b[0m \u001b[32m━━━━━━━━━━━━━━━━━━━━\u001b[0m\u001b[37m\u001b[0m \u001b[1m3s\u001b[0m 3ms/step - accuracy: 0.9751 - loss: 0.3036\n",
      "Epoch 63/80\n",
      "\u001b[1m1010/1010\u001b[0m \u001b[32m━━━━━━━━━━━━━━━━━━━━\u001b[0m\u001b[37m\u001b[0m \u001b[1m3s\u001b[0m 3ms/step - accuracy: 0.9784 - loss: 0.2937\n",
      "Epoch 64/80\n",
      "\u001b[1m1010/1010\u001b[0m \u001b[32m━━━━━━━━━━━━━━━━━━━━\u001b[0m\u001b[37m\u001b[0m \u001b[1m3s\u001b[0m 3ms/step - accuracy: 0.9775 - loss: 0.2974\n",
      "Epoch 65/80\n",
      "\u001b[1m1010/1010\u001b[0m \u001b[32m━━━━━━━━━━━━━━━━━━━━\u001b[0m\u001b[37m\u001b[0m \u001b[1m3s\u001b[0m 3ms/step - accuracy: 0.9782 - loss: 0.2944\n",
      "Epoch 66/80\n",
      "\u001b[1m1010/1010\u001b[0m \u001b[32m━━━━━━━━━━━━━━━━━━━━\u001b[0m\u001b[37m\u001b[0m \u001b[1m3s\u001b[0m 3ms/step - accuracy: 0.9783 - loss: 0.2968\n",
      "Epoch 67/80\n",
      "\u001b[1m1010/1010\u001b[0m \u001b[32m━━━━━━━━━━━━━━━━━━━━\u001b[0m\u001b[37m\u001b[0m \u001b[1m3s\u001b[0m 3ms/step - accuracy: 0.9763 - loss: 0.2991\n",
      "Epoch 68/80\n",
      "\u001b[1m1010/1010\u001b[0m \u001b[32m━━━━━━━━━━━━━━━━━━━━\u001b[0m\u001b[37m\u001b[0m \u001b[1m3s\u001b[0m 3ms/step - accuracy: 0.9788 - loss: 0.2913\n",
      "Epoch 69/80\n",
      "\u001b[1m1010/1010\u001b[0m \u001b[32m━━━━━━━━━━━━━━━━━━━━\u001b[0m\u001b[37m\u001b[0m \u001b[1m3s\u001b[0m 3ms/step - accuracy: 0.9808 - loss: 0.2866\n",
      "Epoch 70/80\n",
      "\u001b[1m1010/1010\u001b[0m \u001b[32m━━━━━━━━━━━━━━━━━━━━\u001b[0m\u001b[37m\u001b[0m \u001b[1m3s\u001b[0m 3ms/step - accuracy: 0.9756 - loss: 0.2980\n",
      "Epoch 71/80\n",
      "\u001b[1m1010/1010\u001b[0m \u001b[32m━━━━━━━━━━━━━━━━━━━━\u001b[0m\u001b[37m\u001b[0m \u001b[1m3s\u001b[0m 3ms/step - accuracy: 0.9770 - loss: 0.2972\n",
      "Epoch 72/80\n",
      "\u001b[1m1010/1010\u001b[0m \u001b[32m━━━━━━━━━━━━━━━━━━━━\u001b[0m\u001b[37m\u001b[0m \u001b[1m3s\u001b[0m 3ms/step - accuracy: 0.9808 - loss: 0.2887\n",
      "Epoch 73/80\n",
      "\u001b[1m1010/1010\u001b[0m \u001b[32m━━━━━━━━━━━━━━━━━━━━\u001b[0m\u001b[37m\u001b[0m \u001b[1m3s\u001b[0m 3ms/step - accuracy: 0.9768 - loss: 0.2979\n",
      "Epoch 74/80\n",
      "\u001b[1m1010/1010\u001b[0m \u001b[32m━━━━━━━━━━━━━━━━━━━━\u001b[0m\u001b[37m\u001b[0m \u001b[1m3s\u001b[0m 3ms/step - accuracy: 0.9790 - loss: 0.2913\n",
      "Epoch 75/80\n",
      "\u001b[1m1010/1010\u001b[0m \u001b[32m━━━━━━━━━━━━━━━━━━━━\u001b[0m\u001b[37m\u001b[0m \u001b[1m3s\u001b[0m 3ms/step - accuracy: 0.9791 - loss: 0.2935\n",
      "Epoch 76/80\n",
      "\u001b[1m1010/1010\u001b[0m \u001b[32m━━━━━━━━━━━━━━━━━━━━\u001b[0m\u001b[37m\u001b[0m \u001b[1m3s\u001b[0m 3ms/step - accuracy: 0.9800 - loss: 0.2850\n",
      "Epoch 77/80\n",
      "\u001b[1m1010/1010\u001b[0m \u001b[32m━━━━━━━━━━━━━━━━━━━━\u001b[0m\u001b[37m\u001b[0m \u001b[1m3s\u001b[0m 3ms/step - accuracy: 0.9783 - loss: 0.2929\n",
      "Epoch 78/80\n",
      "\u001b[1m1010/1010\u001b[0m \u001b[32m━━━━━━━━━━━━━━━━━━━━\u001b[0m\u001b[37m\u001b[0m \u001b[1m3s\u001b[0m 3ms/step - accuracy: 0.9729 - loss: 0.3098\n",
      "Epoch 79/80\n",
      "\u001b[1m1010/1010\u001b[0m \u001b[32m━━━━━━━━━━━━━━━━━━━━\u001b[0m\u001b[37m\u001b[0m \u001b[1m3s\u001b[0m 3ms/step - accuracy: 0.9767 - loss: 0.2958\n",
      "Epoch 80/80\n",
      "\u001b[1m1010/1010\u001b[0m \u001b[32m━━━━━━━━━━━━━━━━━━━━\u001b[0m\u001b[37m\u001b[0m \u001b[1m3s\u001b[0m 3ms/step - accuracy: 0.9805 - loss: 0.2845\n"
     ]
    }
   ],
   "source": [
    "model.compile(optimizer=Adam(learning_rate=0.0001), loss='categorical_crossentropy', metrics=['accuracy'])\n",
    "\n",
    "# Train the model without validation\n",
    "history = model.fit(\n",
    "    x=train_images, \n",
    "    y=train_labels,\n",
    "    batch_size=32,\n",
    "    epochs=80\n",
    ")"
   ]
  },
  {
   "cell_type": "code",
   "execution_count": 16,
   "id": "52bb1f4b",
   "metadata": {
    "execution": {
     "iopub.execute_input": "2025-01-28T13:08:19.046708Z",
     "iopub.status.busy": "2025-01-28T13:08:19.046338Z",
     "iopub.status.idle": "2025-01-28T13:08:20.996878Z",
     "shell.execute_reply": "2025-01-28T13:08:20.996036Z"
    },
    "papermill": {
     "duration": 2.250119,
     "end_time": "2025-01-28T13:08:20.998218",
     "exception": false,
     "start_time": "2025-01-28T13:08:18.748099",
     "status": "completed"
    },
    "tags": []
   },
   "outputs": [
    {
     "name": "stdout",
     "output_type": "stream",
     "text": [
      "\u001b[1m113/113\u001b[0m \u001b[32m━━━━━━━━━━━━━━━━━━━━\u001b[0m\u001b[37m\u001b[0m \u001b[1m2s\u001b[0m 8ms/step - accuracy: 0.5658 - loss: 2.8441\n",
      "Test Accuracy: 0.5651\n"
     ]
    }
   ],
   "source": [
    "# Evaluate the model\n",
    "test_loss, test_accuracy = model.evaluate(test_images,test_labels)\n",
    "print(f\"Test Accuracy: {test_accuracy:.4f}\")"
   ]
  },
  {
   "cell_type": "markdown",
   "id": "74d10089",
   "metadata": {
    "papermill": {
     "duration": 0.282379,
     "end_time": "2025-01-28T13:08:21.539576",
     "exception": false,
     "start_time": "2025-01-28T13:08:21.257197",
     "status": "completed"
    },
    "tags": []
   },
   "source": [
    "**# Plot training and validation loss**"
   ]
  },
  {
   "cell_type": "code",
   "execution_count": 17,
   "id": "504f029f",
   "metadata": {
    "execution": {
     "iopub.execute_input": "2025-01-28T13:08:22.132784Z",
     "iopub.status.busy": "2025-01-28T13:08:22.132346Z",
     "iopub.status.idle": "2025-01-28T13:08:22.685430Z",
     "shell.execute_reply": "2025-01-28T13:08:22.684391Z"
    },
    "papermill": {
     "duration": 0.808048,
     "end_time": "2025-01-28T13:08:22.686892",
     "exception": false,
     "start_time": "2025-01-28T13:08:21.878844",
     "status": "completed"
    },
    "tags": []
   },
   "outputs": [
    {
     "data": {
      "image/png": "[encoded data removed]",
      "text/plain": [
       "<Figure size 1200x500 with 2 Axes>"
      ]
     },
     "metadata": {},
     "output_type": "display_data"
    }
   ],
   "source": [
    "plt.figure(figsize=(12, 5))\n",
    "\n",
    "# Loss curve\n",
    "plt.subplot(1,2,1)\n",
    "plt.plot(history.history['loss'], label='Training loss' ,color='blue',linestyle='-')\n",
    "plt.title('Training Loss')\n",
    "plt.xlabel('Epoch')\n",
    "plt.ylabel('Loss')\n",
    "plt.legend()\n",
    "plt.grid(True)\n",
    "\n",
    "\n",
    "## Accuracy curve\n",
    "plt.subplot(1,2,2)\n",
    "plt.plot(history.history['accuracy'], label='Training Accuracy' ,color='blue',linestyle='-')\n",
    "plt.title('Training Accuracy')\n",
    "plt.xlabel('Epoch')\n",
    "plt.ylabel('Accuracy')\n",
    "plt.legend()\n",
    "plt.grid(True)\n",
    "\n",
    "# we need to adjust spacing between subplots\n",
    "plt.tight_layout()\n",
    "plt.show()"
   ]
  }
 ],
 "metadata": {
  "kaggle": {
   "accelerator": "gpu",
   "dataSources": [
    {
     "databundleVersionId": 31151,
     "sourceId": 3364,
     "sourceType": "competition"
    }
   ],
   "dockerImageVersionId": 30840,
   "isGpuEnabled": true,
   "isInternetEnabled": true,
   "language": "python",
   "sourceType": "notebook"
  },
  "kernelspec": {
   "display_name": "Python 3",
   "language": "python",
   "name": "python3"
  },
  "language_info": {
   "codemirror_mode": {
    "name": "ipython",
    "version": 3
   },
   "file_extension": ".py",
   "mimetype": "text/x-python",
   "name": "python",
   "nbconvert_exporter": "python",
   "pygments_lexer": "ipython3",
   "version": "3.10.12"
  },
  "papermill": {
   "default_parameters": {},
   "duration": 309.845685,
   "end_time": "2025-01-28T13:08:25.370891",
   "environment_variables": {},
   "exception": null,
   "input_path": "__notebook__.ipynb",
   "output_path": "__notebook__.ipynb",
   "parameters": {},
   "start_time": "2025-01-28T13:03:15.525206",
   "version": "2.6.0"
  }
 },
 "nbformat": 4,
 "nbformat_minor": 5
}
